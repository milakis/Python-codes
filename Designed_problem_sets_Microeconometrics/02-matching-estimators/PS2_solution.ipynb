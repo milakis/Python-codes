{
 "cells": [
  {
   "cell_type": "code",
   "execution_count": 1,
   "metadata": {},
   "outputs": [],
   "source": [
    "import os\n",
    "import pandas as pd\n",
    "from scipy import stats\n",
    "import scipy\n",
    "from scipy.stats import ttest_ind\n",
    "import numpy as np\n",
    "import seaborn as sns\n",
    "import scipy.stats as stats\n",
    "import matplotlib.pyplot as plt\n",
    "import statsmodels.api as sm\n",
    "import statsmodels.formula.api as smf"
   ]
  },
  {
   "cell_type": "markdown",
   "metadata": {},
   "source": [
    "## Task A"
   ]
  },
  {
   "cell_type": "markdown",
   "metadata": {},
   "source": [
    "*Create the table with the sample means of characteristics by age, education, preintervention earnings, etc. for treated and control groups of NSW sample (you can use the Table 1 from  Dehejia and Wahba (1999) as a benchmark). Is the distribution of preintervention variables similar across the treatment and control groups? Check the differences on significance. Add to the table the CPS sample means. Is the comparison group different from the treatment group in terms of age, marital status, ethnicity, and preintervention earnings?*"
   ]
  },
  {
   "cell_type": "code",
   "execution_count": 7,
   "metadata": {},
   "outputs": [
    {
     "data": {
      "text/html": [
       "<div>\n",
       "<style scoped>\n",
       "    .dataframe tbody tr th:only-of-type {\n",
       "        vertical-align: middle;\n",
       "    }\n",
       "\n",
       "    .dataframe tbody tr th {\n",
       "        vertical-align: top;\n",
       "    }\n",
       "\n",
       "    .dataframe thead th {\n",
       "        text-align: right;\n",
       "    }\n",
       "</style>\n",
       "<table border=\"1\" class=\"dataframe\">\n",
       "  <thead>\n",
       "    <tr style=\"text-align: right;\">\n",
       "      <th></th>\n",
       "      <th>treat</th>\n",
       "      <th>age</th>\n",
       "      <th>ed</th>\n",
       "      <th>black</th>\n",
       "      <th>hisp</th>\n",
       "      <th>married</th>\n",
       "      <th>nodeg</th>\n",
       "      <th>re75</th>\n",
       "      <th>re78</th>\n",
       "      <th>re74</th>\n",
       "      <th>age2</th>\n",
       "    </tr>\n",
       "  </thead>\n",
       "  <tbody>\n",
       "    <tr>\n",
       "      <th>0</th>\n",
       "      <td>1</td>\n",
       "      <td>37</td>\n",
       "      <td>11</td>\n",
       "      <td>1</td>\n",
       "      <td>0</td>\n",
       "      <td>1</td>\n",
       "      <td>1</td>\n",
       "      <td>0.0</td>\n",
       "      <td>9930.0460</td>\n",
       "      <td>0.0</td>\n",
       "      <td>1369</td>\n",
       "    </tr>\n",
       "    <tr>\n",
       "      <th>1</th>\n",
       "      <td>1</td>\n",
       "      <td>22</td>\n",
       "      <td>9</td>\n",
       "      <td>0</td>\n",
       "      <td>1</td>\n",
       "      <td>0</td>\n",
       "      <td>1</td>\n",
       "      <td>0.0</td>\n",
       "      <td>3595.8940</td>\n",
       "      <td>0.0</td>\n",
       "      <td>484</td>\n",
       "    </tr>\n",
       "    <tr>\n",
       "      <th>2</th>\n",
       "      <td>1</td>\n",
       "      <td>30</td>\n",
       "      <td>12</td>\n",
       "      <td>1</td>\n",
       "      <td>0</td>\n",
       "      <td>0</td>\n",
       "      <td>0</td>\n",
       "      <td>0.0</td>\n",
       "      <td>24909.4500</td>\n",
       "      <td>0.0</td>\n",
       "      <td>900</td>\n",
       "    </tr>\n",
       "    <tr>\n",
       "      <th>3</th>\n",
       "      <td>1</td>\n",
       "      <td>27</td>\n",
       "      <td>11</td>\n",
       "      <td>1</td>\n",
       "      <td>0</td>\n",
       "      <td>0</td>\n",
       "      <td>1</td>\n",
       "      <td>0.0</td>\n",
       "      <td>7506.1460</td>\n",
       "      <td>0.0</td>\n",
       "      <td>729</td>\n",
       "    </tr>\n",
       "    <tr>\n",
       "      <th>4</th>\n",
       "      <td>1</td>\n",
       "      <td>33</td>\n",
       "      <td>8</td>\n",
       "      <td>1</td>\n",
       "      <td>0</td>\n",
       "      <td>0</td>\n",
       "      <td>1</td>\n",
       "      <td>0.0</td>\n",
       "      <td>289.7899</td>\n",
       "      <td>0.0</td>\n",
       "      <td>1089</td>\n",
       "    </tr>\n",
       "  </tbody>\n",
       "</table>\n",
       "</div>"
      ],
      "text/plain": [
       "   treat  age  ed  black  hisp  married  nodeg  re75        re78  re74  age2\n",
       "0      1   37  11      1     0        1      1   0.0   9930.0460   0.0  1369\n",
       "1      1   22   9      0     1        0      1   0.0   3595.8940   0.0   484\n",
       "2      1   30  12      1     0        0      0   0.0  24909.4500   0.0   900\n",
       "3      1   27  11      1     0        0      1   0.0   7506.1460   0.0   729\n",
       "4      1   33   8      1     0        0      1   0.0    289.7899   0.0  1089"
      ]
     },
     "execution_count": 7,
     "metadata": {},
     "output_type": "execute_result"
    }
   ],
   "source": [
    "#NSW data set\n",
    "nsw = pd.read_csv('data/nsw_full.csv')\n",
    "nsw = nsw.rename(columns={\"education\": \"ed\", \"hispanic\": \"hisp\", \"nodegree\": \"nodeg\"})\n",
    "nsw = nsw.drop(['data_id'], axis=1)\n",
    "nsw['age2'] = nsw.age**2\n",
    "nsw.head()"
   ]
  },
  {
   "cell_type": "code",
   "execution_count": 3,
   "metadata": {},
   "outputs": [
    {
     "data": {
      "text/html": [
       "<div>\n",
       "<style scoped>\n",
       "    .dataframe tbody tr th:only-of-type {\n",
       "        vertical-align: middle;\n",
       "    }\n",
       "\n",
       "    .dataframe tbody tr th {\n",
       "        vertical-align: top;\n",
       "    }\n",
       "\n",
       "    .dataframe thead th {\n",
       "        text-align: right;\n",
       "    }\n",
       "</style>\n",
       "<table border=\"1\" class=\"dataframe\">\n",
       "  <thead>\n",
       "    <tr style=\"text-align: right;\">\n",
       "      <th></th>\n",
       "      <th>treat</th>\n",
       "      <th>age</th>\n",
       "      <th>ed</th>\n",
       "      <th>black</th>\n",
       "      <th>hisp</th>\n",
       "      <th>married</th>\n",
       "      <th>nodeg</th>\n",
       "      <th>re74</th>\n",
       "      <th>re75</th>\n",
       "      <th>re78</th>\n",
       "      <th>age2</th>\n",
       "    </tr>\n",
       "  </thead>\n",
       "  <tbody>\n",
       "    <tr>\n",
       "      <th>0</th>\n",
       "      <td>0.0</td>\n",
       "      <td>45.0</td>\n",
       "      <td>11.0</td>\n",
       "      <td>0.0</td>\n",
       "      <td>0.0</td>\n",
       "      <td>1.0</td>\n",
       "      <td>1.0</td>\n",
       "      <td>21516.670</td>\n",
       "      <td>25243.550</td>\n",
       "      <td>25564.670</td>\n",
       "      <td>2025.0</td>\n",
       "    </tr>\n",
       "    <tr>\n",
       "      <th>1</th>\n",
       "      <td>0.0</td>\n",
       "      <td>21.0</td>\n",
       "      <td>14.0</td>\n",
       "      <td>0.0</td>\n",
       "      <td>0.0</td>\n",
       "      <td>0.0</td>\n",
       "      <td>0.0</td>\n",
       "      <td>3175.971</td>\n",
       "      <td>5852.565</td>\n",
       "      <td>13496.080</td>\n",
       "      <td>441.0</td>\n",
       "    </tr>\n",
       "    <tr>\n",
       "      <th>2</th>\n",
       "      <td>0.0</td>\n",
       "      <td>38.0</td>\n",
       "      <td>12.0</td>\n",
       "      <td>0.0</td>\n",
       "      <td>0.0</td>\n",
       "      <td>1.0</td>\n",
       "      <td>0.0</td>\n",
       "      <td>23039.020</td>\n",
       "      <td>25130.760</td>\n",
       "      <td>25564.670</td>\n",
       "      <td>1444.0</td>\n",
       "    </tr>\n",
       "    <tr>\n",
       "      <th>3</th>\n",
       "      <td>0.0</td>\n",
       "      <td>48.0</td>\n",
       "      <td>6.0</td>\n",
       "      <td>0.0</td>\n",
       "      <td>0.0</td>\n",
       "      <td>1.0</td>\n",
       "      <td>1.0</td>\n",
       "      <td>24994.370</td>\n",
       "      <td>25243.550</td>\n",
       "      <td>25564.670</td>\n",
       "      <td>2304.0</td>\n",
       "    </tr>\n",
       "    <tr>\n",
       "      <th>4</th>\n",
       "      <td>0.0</td>\n",
       "      <td>18.0</td>\n",
       "      <td>8.0</td>\n",
       "      <td>0.0</td>\n",
       "      <td>0.0</td>\n",
       "      <td>1.0</td>\n",
       "      <td>1.0</td>\n",
       "      <td>1669.295</td>\n",
       "      <td>10727.610</td>\n",
       "      <td>9860.869</td>\n",
       "      <td>324.0</td>\n",
       "    </tr>\n",
       "  </tbody>\n",
       "</table>\n",
       "</div>"
      ],
      "text/plain": [
       "   treat   age    ed  black  hisp  married  nodeg       re74       re75  \\\n",
       "0    0.0  45.0  11.0    0.0   0.0      1.0    1.0  21516.670  25243.550   \n",
       "1    0.0  21.0  14.0    0.0   0.0      0.0    0.0   3175.971   5852.565   \n",
       "2    0.0  38.0  12.0    0.0   0.0      1.0    0.0  23039.020  25130.760   \n",
       "3    0.0  48.0   6.0    0.0   0.0      1.0    1.0  24994.370  25243.550   \n",
       "4    0.0  18.0   8.0    0.0   0.0      1.0    1.0   1669.295  10727.610   \n",
       "\n",
       "        re78    age2  \n",
       "0  25564.670  2025.0  \n",
       "1  13496.080   441.0  \n",
       "2  25564.670  1444.0  \n",
       "3  25564.670  2304.0  \n",
       "4   9860.869   324.0  "
      ]
     },
     "execution_count": 3,
     "metadata": {},
     "output_type": "execute_result"
    }
   ],
   "source": [
    "#CPS data set\n",
    "cps = pd.read_csv('data/cps.csv')\n",
    "cps.head()"
   ]
  },
  {
   "cell_type": "code",
   "execution_count": 21,
   "metadata": {},
   "outputs": [
    {
     "data": {
      "text/html": [
       "<div>\n",
       "<style scoped>\n",
       "    .dataframe tbody tr th:only-of-type {\n",
       "        vertical-align: middle;\n",
       "    }\n",
       "\n",
       "    .dataframe tbody tr th {\n",
       "        vertical-align: top;\n",
       "    }\n",
       "\n",
       "    .dataframe thead th {\n",
       "        text-align: right;\n",
       "    }\n",
       "</style>\n",
       "<table border=\"1\" class=\"dataframe\">\n",
       "  <thead>\n",
       "    <tr style=\"text-align: right;\">\n",
       "      <th></th>\n",
       "      <th>Age</th>\n",
       "      <th>Education</th>\n",
       "      <th>Black</th>\n",
       "      <th>Hispanic</th>\n",
       "      <th>Married</th>\n",
       "      <th>No degree</th>\n",
       "      <th>Earnings74</th>\n",
       "      <th>Earnings75</th>\n",
       "    </tr>\n",
       "  </thead>\n",
       "  <tbody>\n",
       "    <tr>\n",
       "      <th>Sample mean NSW treated</th>\n",
       "      <td>25.82</td>\n",
       "      <td>10.35</td>\n",
       "      <td>0.84</td>\n",
       "      <td>0.06</td>\n",
       "      <td>0.19</td>\n",
       "      <td>0.71</td>\n",
       "      <td>2,095.57</td>\n",
       "      <td>1,532.06</td>\n",
       "    </tr>\n",
       "    <tr>\n",
       "      <th>Sample mean NSW control</th>\n",
       "      <td>25.05</td>\n",
       "      <td>10.09</td>\n",
       "      <td>0.83</td>\n",
       "      <td>0.11</td>\n",
       "      <td>0.15</td>\n",
       "      <td>0.83</td>\n",
       "      <td>2,107.03</td>\n",
       "      <td>1,266.91</td>\n",
       "    </tr>\n",
       "    <tr>\n",
       "      <th>p-value on difference between NSW treated and NSW control means</th>\n",
       "      <td>0.26</td>\n",
       "      <td>0.14</td>\n",
       "      <td>0.65</td>\n",
       "      <td>0.08</td>\n",
       "      <td>0.33</td>\n",
       "      <td>0.00</td>\n",
       "      <td>0.98</td>\n",
       "      <td>0.38</td>\n",
       "    </tr>\n",
       "    <tr>\n",
       "      <th>Sample mean CPS</th>\n",
       "      <td>33.23</td>\n",
       "      <td>12.03</td>\n",
       "      <td>0.07</td>\n",
       "      <td>0.07</td>\n",
       "      <td>0.71</td>\n",
       "      <td>0.30</td>\n",
       "      <td>14,016.80</td>\n",
       "      <td>13,650.80</td>\n",
       "    </tr>\n",
       "    <tr>\n",
       "      <th>p-value on difference between NSW treated and CPS means</th>\n",
       "      <td>0.00</td>\n",
       "      <td>0.00</td>\n",
       "      <td>0.00</td>\n",
       "      <td>0.00</td>\n",
       "      <td>0.00</td>\n",
       "      <td>0.00</td>\n",
       "      <td>0.22</td>\n",
       "      <td>0.02</td>\n",
       "    </tr>\n",
       "  </tbody>\n",
       "</table>\n",
       "</div>"
      ],
      "text/plain": [
       "                                                     Age  Education  Black  \\\n",
       "Sample mean NSW treated                            25.82      10.35   0.84   \n",
       "Sample mean NSW control                            25.05      10.09   0.83   \n",
       "p-value on difference between NSW treated and N...  0.26       0.14   0.65   \n",
       "Sample mean CPS                                    33.23      12.03   0.07   \n",
       "p-value on difference between NSW treated and C...  0.00       0.00   0.00   \n",
       "\n",
       "                                                    Hispanic  Married  \\\n",
       "Sample mean NSW treated                                 0.06     0.19   \n",
       "Sample mean NSW control                                 0.11     0.15   \n",
       "p-value on difference between NSW treated and N...      0.08     0.33   \n",
       "Sample mean CPS                                         0.07     0.71   \n",
       "p-value on difference between NSW treated and C...      0.00     0.00   \n",
       "\n",
       "                                                    No degree  Earnings74  \\\n",
       "Sample mean NSW treated                                  0.71    2,095.57   \n",
       "Sample mean NSW control                                  0.83    2,107.03   \n",
       "p-value on difference between NSW treated and N...       0.00        0.98   \n",
       "Sample mean CPS                                          0.30   14,016.80   \n",
       "p-value on difference between NSW treated and C...       0.00        0.22   \n",
       "\n",
       "                                                    Earnings75  \n",
       "Sample mean NSW treated                               1,532.06  \n",
       "Sample mean NSW control                               1,266.91  \n",
       "p-value on difference between NSW treated and N...        0.38  \n",
       "Sample mean CPS                                      13,650.80  \n",
       "p-value on difference between NSW treated and C...        0.02  "
      ]
     },
     "execution_count": 21,
     "metadata": {},
     "output_type": "execute_result"
    }
   ],
   "source": [
    "# create the table with means of NSW treated, NSW control, CPS and check the differences between means on significance\n",
    "nsw_treat = nsw[(nsw['treat'] == 1)]\n",
    "nsw_untreat = nsw[(nsw['treat'] == 0)]\n",
    "nsw_t_m = nsw_treat.mean()\n",
    "nsw_ut_m = nsw_untreat.mean()\n",
    "ttest_nsw,pval_nsw = ttest_ind(nsw_treat, nsw_untreat)\n",
    "cps_m = cps.mean()\n",
    "ttest_nsw_cps,pval_nsw_cps = ttest_ind(nsw_treat, cps_m)\n",
    "data = np.column_stack((nsw_t_m,nsw_ut_m,pval_nsw,cps_m,pval_nsw_cps))\n",
    "dataset = pd.DataFrame({'Sample mean NSW treated': data[:, 0], 'Sample mean NSW control': data[:, 1], 'p-value on difference between NSW treated and NSW control means': data[:, 2], 'Sample mean CPS': data[:, 3], 'p-value on difference between NSW treated and CPS means': data[:, 4],})\n",
    "pd.options.display.float_format = '{:,.2f}'.format\n",
    "dataset = dataset.T\n",
    "dataset = dataset.drop([0, 9, 10], axis=1)\n",
    "dataset = dataset.rename(columns={1: \"Age\", 2: \"Education\", 3:\"Black\", 4:\"Hispanic\", 5:\"Married\", 6:\"No degree\", 7:\"Earnings74\", 8:\"Earnings75\"})\n",
    "dataset"
   ]
  },
  {
   "cell_type": "markdown",
   "metadata": {},
   "source": [
    "# Task B.1"
   ]
  },
  {
   "cell_type": "markdown",
   "metadata": {},
   "source": [
    "*Merge the treatment group data from the NSW sample with the comparison group data from the CPS sample to imitate an observational study.*"
   ]
  },
  {
   "cell_type": "code",
   "execution_count": 25,
   "metadata": {},
   "outputs": [
    {
     "data": {
      "text/html": [
       "<div>\n",
       "<style scoped>\n",
       "    .dataframe tbody tr th:only-of-type {\n",
       "        vertical-align: middle;\n",
       "    }\n",
       "\n",
       "    .dataframe tbody tr th {\n",
       "        vertical-align: top;\n",
       "    }\n",
       "\n",
       "    .dataframe thead th {\n",
       "        text-align: right;\n",
       "    }\n",
       "</style>\n",
       "<table border=\"1\" class=\"dataframe\">\n",
       "  <thead>\n",
       "    <tr style=\"text-align: right;\">\n",
       "      <th></th>\n",
       "      <th>treat</th>\n",
       "      <th>age</th>\n",
       "      <th>ed</th>\n",
       "      <th>black</th>\n",
       "      <th>hisp</th>\n",
       "      <th>married</th>\n",
       "      <th>nodeg</th>\n",
       "      <th>re74</th>\n",
       "      <th>re75</th>\n",
       "      <th>re78</th>\n",
       "      <th>age2</th>\n",
       "    </tr>\n",
       "  </thead>\n",
       "  <tbody>\n",
       "    <tr>\n",
       "      <th>0</th>\n",
       "      <td>1.00</td>\n",
       "      <td>37.00</td>\n",
       "      <td>11.00</td>\n",
       "      <td>1.00</td>\n",
       "      <td>0.00</td>\n",
       "      <td>1.00</td>\n",
       "      <td>1.00</td>\n",
       "      <td>0.00</td>\n",
       "      <td>0.00</td>\n",
       "      <td>9,930.05</td>\n",
       "      <td>1,369.00</td>\n",
       "    </tr>\n",
       "    <tr>\n",
       "      <th>1</th>\n",
       "      <td>1.00</td>\n",
       "      <td>22.00</td>\n",
       "      <td>9.00</td>\n",
       "      <td>0.00</td>\n",
       "      <td>1.00</td>\n",
       "      <td>0.00</td>\n",
       "      <td>1.00</td>\n",
       "      <td>0.00</td>\n",
       "      <td>0.00</td>\n",
       "      <td>3,595.89</td>\n",
       "      <td>484.00</td>\n",
       "    </tr>\n",
       "    <tr>\n",
       "      <th>2</th>\n",
       "      <td>1.00</td>\n",
       "      <td>30.00</td>\n",
       "      <td>12.00</td>\n",
       "      <td>1.00</td>\n",
       "      <td>0.00</td>\n",
       "      <td>0.00</td>\n",
       "      <td>0.00</td>\n",
       "      <td>0.00</td>\n",
       "      <td>0.00</td>\n",
       "      <td>24,909.45</td>\n",
       "      <td>900.00</td>\n",
       "    </tr>\n",
       "    <tr>\n",
       "      <th>3</th>\n",
       "      <td>1.00</td>\n",
       "      <td>27.00</td>\n",
       "      <td>11.00</td>\n",
       "      <td>1.00</td>\n",
       "      <td>0.00</td>\n",
       "      <td>0.00</td>\n",
       "      <td>1.00</td>\n",
       "      <td>0.00</td>\n",
       "      <td>0.00</td>\n",
       "      <td>7,506.15</td>\n",
       "      <td>729.00</td>\n",
       "    </tr>\n",
       "    <tr>\n",
       "      <th>4</th>\n",
       "      <td>1.00</td>\n",
       "      <td>33.00</td>\n",
       "      <td>8.00</td>\n",
       "      <td>1.00</td>\n",
       "      <td>0.00</td>\n",
       "      <td>0.00</td>\n",
       "      <td>1.00</td>\n",
       "      <td>0.00</td>\n",
       "      <td>0.00</td>\n",
       "      <td>289.79</td>\n",
       "      <td>1,089.00</td>\n",
       "    </tr>\n",
       "    <tr>\n",
       "      <th>...</th>\n",
       "      <td>...</td>\n",
       "      <td>...</td>\n",
       "      <td>...</td>\n",
       "      <td>...</td>\n",
       "      <td>...</td>\n",
       "      <td>...</td>\n",
       "      <td>...</td>\n",
       "      <td>...</td>\n",
       "      <td>...</td>\n",
       "      <td>...</td>\n",
       "      <td>...</td>\n",
       "    </tr>\n",
       "    <tr>\n",
       "      <th>15987</th>\n",
       "      <td>0.00</td>\n",
       "      <td>22.00</td>\n",
       "      <td>12.00</td>\n",
       "      <td>1.00</td>\n",
       "      <td>0.00</td>\n",
       "      <td>0.00</td>\n",
       "      <td>0.00</td>\n",
       "      <td>3,975.35</td>\n",
       "      <td>6,801.44</td>\n",
       "      <td>2,757.44</td>\n",
       "      <td>484.00</td>\n",
       "    </tr>\n",
       "    <tr>\n",
       "      <th>15988</th>\n",
       "      <td>0.00</td>\n",
       "      <td>20.00</td>\n",
       "      <td>12.00</td>\n",
       "      <td>1.00</td>\n",
       "      <td>0.00</td>\n",
       "      <td>1.00</td>\n",
       "      <td>0.00</td>\n",
       "      <td>1,445.94</td>\n",
       "      <td>11,832.24</td>\n",
       "      <td>6,895.07</td>\n",
       "      <td>400.00</td>\n",
       "    </tr>\n",
       "    <tr>\n",
       "      <th>15989</th>\n",
       "      <td>0.00</td>\n",
       "      <td>37.00</td>\n",
       "      <td>12.00</td>\n",
       "      <td>0.00</td>\n",
       "      <td>0.00</td>\n",
       "      <td>0.00</td>\n",
       "      <td>0.00</td>\n",
       "      <td>1,733.95</td>\n",
       "      <td>1,559.37</td>\n",
       "      <td>4,221.86</td>\n",
       "      <td>1,369.00</td>\n",
       "    </tr>\n",
       "    <tr>\n",
       "      <th>15990</th>\n",
       "      <td>0.00</td>\n",
       "      <td>47.00</td>\n",
       "      <td>9.00</td>\n",
       "      <td>0.00</td>\n",
       "      <td>0.00</td>\n",
       "      <td>1.00</td>\n",
       "      <td>1.00</td>\n",
       "      <td>16,914.35</td>\n",
       "      <td>11,384.66</td>\n",
       "      <td>13,671.93</td>\n",
       "      <td>2,209.00</td>\n",
       "    </tr>\n",
       "    <tr>\n",
       "      <th>15991</th>\n",
       "      <td>0.00</td>\n",
       "      <td>40.00</td>\n",
       "      <td>10.00</td>\n",
       "      <td>0.00</td>\n",
       "      <td>0.00</td>\n",
       "      <td>0.00</td>\n",
       "      <td>1.00</td>\n",
       "      <td>13,628.66</td>\n",
       "      <td>13,144.55</td>\n",
       "      <td>7,979.72</td>\n",
       "      <td>1,600.00</td>\n",
       "    </tr>\n",
       "  </tbody>\n",
       "</table>\n",
       "<p>16177 rows × 11 columns</p>\n",
       "</div>"
      ],
      "text/plain": [
       "       treat   age    ed  black  hisp  married  nodeg      re74      re75  \\\n",
       "0       1.00 37.00 11.00   1.00  0.00     1.00   1.00      0.00      0.00   \n",
       "1       1.00 22.00  9.00   0.00  1.00     0.00   1.00      0.00      0.00   \n",
       "2       1.00 30.00 12.00   1.00  0.00     0.00   0.00      0.00      0.00   \n",
       "3       1.00 27.00 11.00   1.00  0.00     0.00   1.00      0.00      0.00   \n",
       "4       1.00 33.00  8.00   1.00  0.00     0.00   1.00      0.00      0.00   \n",
       "...      ...   ...   ...    ...   ...      ...    ...       ...       ...   \n",
       "15987   0.00 22.00 12.00   1.00  0.00     0.00   0.00  3,975.35  6,801.44   \n",
       "15988   0.00 20.00 12.00   1.00  0.00     1.00   0.00  1,445.94 11,832.24   \n",
       "15989   0.00 37.00 12.00   0.00  0.00     0.00   0.00  1,733.95  1,559.37   \n",
       "15990   0.00 47.00  9.00   0.00  0.00     1.00   1.00 16,914.35 11,384.66   \n",
       "15991   0.00 40.00 10.00   0.00  0.00     0.00   1.00 13,628.66 13,144.55   \n",
       "\n",
       "           re78     age2  \n",
       "0      9,930.05 1,369.00  \n",
       "1      3,595.89   484.00  \n",
       "2     24,909.45   900.00  \n",
       "3      7,506.15   729.00  \n",
       "4        289.79 1,089.00  \n",
       "...         ...      ...  \n",
       "15987  2,757.44   484.00  \n",
       "15988  6,895.07   400.00  \n",
       "15989  4,221.86 1,369.00  \n",
       "15990 13,671.93 2,209.00  \n",
       "15991  7,979.72 1,600.00  \n",
       "\n",
       "[16177 rows x 11 columns]"
      ]
     },
     "execution_count": 25,
     "metadata": {},
     "output_type": "execute_result"
    }
   ],
   "source": [
    "df = pd.concat([nsw[(nsw['treat'] == 1)], cps])\n",
    "df"
   ]
  },
  {
   "cell_type": "markdown",
   "metadata": {},
   "source": [
    "# Task B.2"
   ]
  },
  {
   "cell_type": "markdown",
   "metadata": {},
   "source": [
    "*Which assumption need to hold such that conditioning on observables can help in obtaining an unbiased estimate of the true treatment effect?*"
   ]
  },
  {
   "cell_type": "markdown",
   "metadata": {},
   "source": [
    "$$E[Y^1|D = 1, S] = E[Y^1|D = 0, S]$$\n",
    "$$E[Y^0|D = 1, S] = E[Y^0|D = 0, S]$$"
   ]
  },
  {
   "cell_type": "markdown",
   "metadata": {},
   "source": [
    "# Task B.3"
   ]
  },
  {
   "cell_type": "markdown",
   "metadata": {},
   "source": [
    "*Run a regression on both experimental and non-experimental data using the specification: RE78 on a constant, a treatment indicator, age, age2, education, marital status, no degree, black, hispanic, RE74, and RE75. We recommend using statsmodels, but you are free to use any other software. Is the treatment effect estimate of the observational study consistent with the true estimate?*"
   ]
  },
  {
   "cell_type": "code",
   "execution_count": 28,
   "metadata": {},
   "outputs": [
    {
     "name": "stdout",
     "output_type": "stream",
     "text": [
      "                            OLS Regression Results                            \n",
      "==============================================================================\n",
      "Dep. Variable:                   re78   R-squared:                       0.055\n",
      "Model:                            OLS   Adj. R-squared:                  0.033\n",
      "Method:                 Least Squares   F-statistic:                     2.528\n",
      "Date:                Thu, 26 Mar 2020   Prob (F-statistic):            0.00574\n",
      "Time:                        01:28:02   Log-Likelihood:                -4534.1\n",
      "No. Observations:                 445   AIC:                             9090.\n",
      "Df Residuals:                     434   BIC:                             9135.\n",
      "Df Model:                          10                                         \n",
      "Covariance Type:            nonrobust                                         \n",
      "==============================================================================\n",
      "                 coef    std err          t      P>|t|      [0.025      0.975]\n",
      "------------------------------------------------------------------------------\n",
      "const       -307.0119   4807.584     -0.064      0.949   -9756.054    9142.030\n",
      "treat       1675.8624    639.344      2.621      0.009     419.267    2932.458\n",
      "age          141.7306    274.417      0.516      0.606    -397.622     681.083\n",
      "ed           385.0161    230.112      1.673      0.095     -67.256     837.288\n",
      "black      -2155.6413   1170.308     -1.842      0.066   -4455.817     144.534\n",
      "hisp         187.2627   1552.764      0.121      0.904   -2864.610    3239.136\n",
      "married     -184.8943    892.430     -0.207      0.836   -1938.917    1569.128\n",
      "nodeg        -55.5448   1006.542     -0.055      0.956   -2033.849    1922.759\n",
      "re74           0.0815      0.078      1.051      0.294      -0.071       0.234\n",
      "re75           0.0508      0.136      0.374      0.708      -0.216       0.318\n",
      "age2          -1.4353      4.495     -0.319      0.750     -10.271       7.400\n",
      "==============================================================================\n",
      "Omnibus:                      283.707   Durbin-Watson:                   2.059\n",
      "Prob(Omnibus):                  0.000   Jarque-Bera (JB):             3724.419\n",
      "Skew:                           2.535   Prob(JB):                         0.00\n",
      "Kurtosis:                      16.235   Cond. No.                     9.97e+04\n",
      "==============================================================================\n",
      "\n",
      "Warnings:\n",
      "[1] Standard Errors assume that the covariance matrix of the errors is correctly specified.\n",
      "[2] The condition number is large, 9.97e+04. This might indicate that there are\n",
      "strong multicollinearity or other numerical problems.\n"
     ]
    }
   ],
   "source": [
    "Y = nsw['re78']\n",
    "X = nsw.drop(['re78'], axis=1)\n",
    "X = sm.add_constant(X)\n",
    "result = sm.OLS(Y,X).fit()\n",
    "print(result.summary())"
   ]
  },
  {
   "cell_type": "code",
   "execution_count": 29,
   "metadata": {},
   "outputs": [
    {
     "name": "stdout",
     "output_type": "stream",
     "text": [
      "Treatment estimate in experimental study is 1675.86\n"
     ]
    }
   ],
   "source": [
    "print('Treatment estimate in experimental study is {:5.2f}'.format(result.params[\"treat\"]))"
   ]
  },
  {
   "cell_type": "code",
   "execution_count": 30,
   "metadata": {},
   "outputs": [
    {
     "name": "stdout",
     "output_type": "stream",
     "text": [
      "                            OLS Regression Results                            \n",
      "==============================================================================\n",
      "Dep. Variable:                   re78   R-squared:                       0.476\n",
      "Model:                            OLS   Adj. R-squared:                  0.476\n",
      "Method:                 Least Squares   F-statistic:                     1469.\n",
      "Date:                Thu, 26 Mar 2020   Prob (F-statistic):               0.00\n",
      "Time:                        01:28:40   Log-Likelihood:            -1.6618e+05\n",
      "No. Observations:               16177   AIC:                         3.324e+05\n",
      "Df Residuals:                   16166   BIC:                         3.325e+05\n",
      "Df Model:                          10                                         \n",
      "Covariance Type:            nonrobust                                         \n",
      "==============================================================================\n",
      "                 coef    std err          t      P>|t|      [0.025      0.975]\n",
      "------------------------------------------------------------------------------\n",
      "const       7634.3440    736.671     10.363      0.000    6190.388    9078.300\n",
      "treat        793.5871    548.254      1.447      0.148    -281.052    1868.226\n",
      "age         -233.6775     41.181     -5.674      0.000    -314.396    -152.959\n",
      "ed           166.8492     28.660      5.822      0.000     110.673     223.026\n",
      "black       -790.6086    213.245     -3.708      0.000   -1208.593    -372.624\n",
      "hisp        -175.9751    218.991     -0.804      0.422    -605.222     253.272\n",
      "married      224.2660    149.845      1.497      0.135     -69.448     517.980\n",
      "nodeg        311.8445    178.517      1.747      0.081     -38.069     661.758\n",
      "re74           0.2953      0.012     24.175      0.000       0.271       0.319\n",
      "re75           0.4706      0.012     38.700      0.000       0.447       0.494\n",
      "age2           1.8144      0.561      3.234      0.001       0.715       2.914\n",
      "==============================================================================\n",
      "Omnibus:                     1552.063   Durbin-Watson:                   1.965\n",
      "Prob(Omnibus):                  0.000   Jarque-Bera (JB):             3093.867\n",
      "Skew:                          -0.634   Prob(JB):                         0.00\n",
      "Kurtosis:                       4.727   Cond. No.                     3.16e+05\n",
      "==============================================================================\n",
      "\n",
      "Warnings:\n",
      "[1] Standard Errors assume that the covariance matrix of the errors is correctly specified.\n",
      "[2] The condition number is large, 3.16e+05. This might indicate that there are\n",
      "strong multicollinearity or other numerical problems.\n"
     ]
    }
   ],
   "source": [
    "Y = df['re78']\n",
    "X = df.drop(['re78'], axis=1)\n",
    "X = sm.add_constant(X)\n",
    "result1 = sm.OLS(Y,X).fit()\n",
    "print(result1.summary())"
   ]
  },
  {
   "cell_type": "code",
   "execution_count": 31,
   "metadata": {},
   "outputs": [
    {
     "name": "stdout",
     "output_type": "stream",
     "text": [
      "Treatment estimate in observational study is 793.59\n"
     ]
    }
   ],
   "source": [
    "print('Treatment estimate in observational study is {:5.2f}'.format(result1.params[\"treat\"]))"
   ]
  },
  {
   "cell_type": "markdown",
   "metadata": {},
   "source": [
    "# Task C.1"
   ]
  },
  {
   "cell_type": "markdown",
   "metadata": {},
   "source": [
    "*Before we start with matching on propensity score, let's come back to another matching strategy which was discussed in Lecture 5 - matching on stratification. Looking at the data could you name at least two potential reasons why matching on stratification might be impossible to use here?*"
   ]
  },
  {
   "cell_type": "markdown",
   "metadata": {},
   "source": [
    "Data contains continuous variables; formed stratas might not have treated and control units available at the same time."
   ]
  },
  {
   "cell_type": "markdown",
   "metadata": {},
   "source": [
    "# Task C.2"
   ]
  },
  {
   "cell_type": "markdown",
   "metadata": {},
   "source": [
    "*Employing our imitated observational data run a logistic regression on the following specification: treatment indicator on age, education, marital status, no degree, black, hispanic, RE74, and RE75. Use, for example, \\texttt{statsmodels} for this task. Then extract a propensity score for every individual as a probability to be assigned into treatment.*"
   ]
  },
  {
   "cell_type": "code",
   "execution_count": 33,
   "metadata": {},
   "outputs": [
    {
     "name": "stdout",
     "output_type": "stream",
     "text": [
      "Optimization terminated successfully.\n",
      "         Current function value: 0.031035\n",
      "         Iterations 12\n"
     ]
    },
    {
     "data": {
      "text/plain": [
       "array([2.47511138e-01, 7.25790910e-02, 2.50397953e-01, ...,\n",
       "       3.29936778e-03, 2.40801359e-04, 5.22213725e-04])"
      ]
     },
     "execution_count": 33,
     "metadata": {},
     "output_type": "execute_result"
    }
   ],
   "source": [
    "pscore = smf.logit(formula='treat ~ age + ed + black + hisp + married + nodeg + re74 + re75', data=df).fit().predict()\n",
    "pscore"
   ]
  },
  {
   "cell_type": "markdown",
   "metadata": {},
   "source": [
    "# Task C.3"
   ]
  },
  {
   "cell_type": "markdown",
   "metadata": {},
   "source": [
    "*Before proceeding further we have to be sure that propensity scores of treatment units overlap with the propensity scores of control units. Draw a figure  showing the distribution of propensity score across treatment and control units (we use the packages matplotlib and seaborn). Do we observe common support?*"
   ]
  },
  {
   "cell_type": "code",
   "execution_count": 34,
   "metadata": {},
   "outputs": [
    {
     "data": {
      "image/png": "[encoded data removed]",
      "text/plain": [
       "<Figure size 432x288 with 1 Axes>"
      ]
     },
     "metadata": {
      "needs_background": "light"
     },
     "output_type": "display_data"
    }
   ],
   "source": [
    "pscore_treat = pscore[df['treat'] == 1]\n",
    "pscore_untreat = pscore[df['treat'] == 0]\n",
    "sns.distplot(pscore_untreat, label='control')\n",
    "sns.distplot(pscore_treat, label='treatment')\n",
    "plt.xlim(0, 1)\n",
    "plt.ylim(0, 5)\n",
    "plt.title('Propensity Score Distribution of Control vs Treatment')\n",
    "plt.ylabel('Density')\n",
    "plt.xlabel('Scores')\n",
    "plt.legend()\n",
    "plt.tight_layout()\n",
    "plt.show()"
   ]
  },
  {
   "cell_type": "markdown",
   "metadata": {},
   "source": [
    "# Task C.4"
   ]
  },
  {
   "cell_type": "markdown",
   "metadata": {},
   "source": [
    "*Match each treatment unit with control unit one-to-one with replacement. We use the package sklearn.neighbors: apply the algorithm NearestNeighbors to the propensity score of treated and control units and extract the indices of matched control units.*"
   ]
  },
  {
   "cell_type": "code",
   "execution_count": 139,
   "metadata": {},
   "outputs": [],
   "source": [
    "from sklearn.neighbors import NearestNeighbors\n",
    "neigh = NearestNeighbors(n_neighbors=2)\n",
    "neigh.fit(pscore_untreat.reshape(-1, 1))\n",
    "distances, indices = neigh.kneighbors(pscore_treat.reshape(-1, 1))\n",
    "matched = indices[:, 1:]"
   ]
  },
  {
   "cell_type": "markdown",
   "metadata": {},
   "source": [
    "# Task C.5"
   ]
  },
  {
   "cell_type": "markdown",
   "metadata": {},
   "source": [
    "*Construct new data set with matched observations. Run the regression to obtain matching on propensity score estimate. Is it more or less consistent estimate of the true effect comparing to the regression estimate with selection on observables? How could you explain this result?*"
   ]
  },
  {
   "cell_type": "code",
   "execution_count": 140,
   "metadata": {},
   "outputs": [
    {
     "name": "stdout",
     "output_type": "stream",
     "text": [
      "                            OLS Regression Results                            \n",
      "==============================================================================\n",
      "Dep. Variable:                   re78   R-squared:                       0.013\n",
      "Model:                            OLS   Adj. R-squared:                  0.011\n",
      "Method:                 Least Squares   F-statistic:                     4.960\n",
      "Date:                Thu, 26 Mar 2020   Prob (F-statistic):             0.0265\n",
      "Time:                        02:28:54   Log-Likelihood:                -3784.4\n",
      "No. Observations:                 370   AIC:                             7573.\n",
      "Df Residuals:                     368   BIC:                             7581.\n",
      "Df Model:                           1                                         \n",
      "Covariance Type:            nonrobust                                         \n",
      "==============================================================================\n",
      "                 coef    std err          t      P>|t|      [0.025      0.975]\n",
      "------------------------------------------------------------------------------\n",
      "const       4794.6237    493.563      9.714      0.000    3824.066    5765.181\n",
      "treat       1554.5198    698.003      2.227      0.027     181.944    2927.095\n",
      "==============================================================================\n",
      "Omnibus:                      233.603   Durbin-Watson:                   2.078\n",
      "Prob(Omnibus):                  0.000   Jarque-Bera (JB):             2714.309\n",
      "Skew:                           2.484   Prob(JB):                         0.00\n",
      "Kurtosis:                      15.304   Cond. No.                         2.62\n",
      "==============================================================================\n",
      "\n",
      "Warnings:\n",
      "[1] Standard Errors assume that the covariance matrix of the errors is correctly specified.\n"
     ]
    },
    {
     "name": "stderr",
     "output_type": "stream",
     "text": [
      "C:\\Users\\liudm\\Anaconda3\\lib\\site-packages\\numpy\\core\\fromnumeric.py:2389: FutureWarning: Method .ptp is deprecated and will be removed in a future version. Use numpy.ptp instead.\n",
      "  return ptp(axis=axis, out=out, **kwargs)\n"
     ]
    }
   ],
   "source": [
    "df_treat = df[df['treat'] == 1]\n",
    "df_untreat = df[df['treat'] == 0].iloc[matched[:, 0]]\n",
    "df_matched = pd.concat([df_treat, df_untreat])\n",
    "\n",
    "Y = df_matched['re78']\n",
    "X = df_matched['treat']\n",
    "X = sm.add_constant(X)\n",
    "result2 = sm.OLS(Y,X).fit()\n",
    "print(result2.summary())"
   ]
  },
  {
   "cell_type": "code",
   "execution_count": 141,
   "metadata": {},
   "outputs": [
    {
     "name": "stdout",
     "output_type": "stream",
     "text": [
      "Treatment estimate after matching on propensity score is 1554.52\n"
     ]
    }
   ],
   "source": [
    "print('Treatment estimate after matching on propensity score is {:5.2f}'.format(result2.params[\"treat\"]))"
   ]
  },
  {
   "cell_type": "markdown",
   "metadata": {},
   "source": [
    "Regression model neglects important nonlinear terms and interactions (Rubin 1973). The benefit of matching over regression is that it is non-parametric (but you do have to assume that you have the right propensity score specification in case of  matching)."
   ]
  }
 ],
 "metadata": {
  "kernelspec": {
   "display_name": "Python 3",
   "language": "python",
   "name": "python3"
  },
  "language_info": {
   "codemirror_mode": {
    "name": "ipython",
    "version": 3
   },
   "file_extension": ".py",
   "mimetype": "text/x-python",
   "name": "python",
   "nbconvert_exporter": "python",
   "pygments_lexer": "ipython3",
   "version": "3.7.6"
  }
 },
 "nbformat": 4,
 "nbformat_minor": 2
}
