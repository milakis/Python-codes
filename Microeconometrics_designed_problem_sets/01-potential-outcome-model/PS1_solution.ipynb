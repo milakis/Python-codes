{
 "cells": [
  {
   "cell_type": "markdown",
   "metadata": {},
   "source": [
    "## Solutions for the Problem Set 1, Microeconometrics."
   ]
  },
  {
   "cell_type": "code",
   "execution_count": 1,
   "metadata": {},
   "outputs": [],
   "source": [
    "import matplotlib.pyplot as plt\n",
    "import seaborn as sns\n",
    "import pandas as pd\n",
    "import numpy as np \n",
    "import scipy.stats"
   ]
  },
  {
   "cell_type": "markdown",
   "metadata": {},
   "source": [
    "## Task A.1\n",
    "*Open a Jupyter Notebook and import the data set nhis-initial.xslx |we recommend using the software presented in class (e.g. pandas, matplotlib, etc.). Try to think of ways to answer the following questions: Are there more females or males? Are there more inidividuals who hold a degree or not?*"
   ]
  },
  {
   "cell_type": "code",
   "execution_count": 10,
   "metadata": {},
   "outputs": [],
   "source": [
    "df = pd.read_excel ('data/nhis-initial.xlsx')"
   ]
  },
  {
   "cell_type": "code",
   "execution_count": 9,
   "metadata": {},
   "outputs": [
    {
     "data": {
      "text/html": [
       "<div>\n",
       "<style scoped>\n",
       "    .dataframe tbody tr th:only-of-type {\n",
       "        vertical-align: middle;\n",
       "    }\n",
       "\n",
       "    .dataframe tbody tr th {\n",
       "        vertical-align: top;\n",
       "    }\n",
       "\n",
       "    .dataframe thead th {\n",
       "        text-align: right;\n",
       "    }\n",
       "</style>\n",
       "<table border=\"1\" class=\"dataframe\">\n",
       "  <thead>\n",
       "    <tr style=\"text-align: right;\">\n",
       "      <th></th>\n",
       "      <th>sex</th>\n",
       "      <th>age</th>\n",
       "      <th>education</th>\n",
       "      <th>hours</th>\n",
       "      <th>earnings</th>\n",
       "      <th>hospitalized</th>\n",
       "      <th>health</th>\n",
       "    </tr>\n",
       "  </thead>\n",
       "  <tbody>\n",
       "    <tr>\n",
       "      <th>0</th>\n",
       "      <td>Female</td>\n",
       "      <td>34</td>\n",
       "      <td>Never attended</td>\n",
       "      <td>45</td>\n",
       "      <td>Low</td>\n",
       "      <td>0</td>\n",
       "      <td>4</td>\n",
       "    </tr>\n",
       "    <tr>\n",
       "      <th>1</th>\n",
       "      <td>Male</td>\n",
       "      <td>49</td>\n",
       "      <td>High school</td>\n",
       "      <td>32</td>\n",
       "      <td>Low</td>\n",
       "      <td>0</td>\n",
       "      <td>3</td>\n",
       "    </tr>\n",
       "    <tr>\n",
       "      <th>2</th>\n",
       "      <td>Male</td>\n",
       "      <td>29</td>\n",
       "      <td>Associate degree</td>\n",
       "      <td>25</td>\n",
       "      <td>Middle</td>\n",
       "      <td>0</td>\n",
       "      <td>4</td>\n",
       "    </tr>\n",
       "    <tr>\n",
       "      <th>3</th>\n",
       "      <td>Female</td>\n",
       "      <td>47</td>\n",
       "      <td>Bachelor</td>\n",
       "      <td>40</td>\n",
       "      <td>Middle</td>\n",
       "      <td>0</td>\n",
       "      <td>5</td>\n",
       "    </tr>\n",
       "    <tr>\n",
       "      <th>4</th>\n",
       "      <td>Male</td>\n",
       "      <td>31</td>\n",
       "      <td>Master</td>\n",
       "      <td>40</td>\n",
       "      <td>Middle</td>\n",
       "      <td>0</td>\n",
       "      <td>5</td>\n",
       "    </tr>\n",
       "  </tbody>\n",
       "</table>\n",
       "</div>"
      ],
      "text/plain": [
       "      sex  age         education  hours earnings  hospitalized  health\n",
       "0  Female   34    Never attended     45      Low             0       4\n",
       "1    Male   49       High school     32      Low             0       3\n",
       "2    Male   29  Associate degree     25   Middle             0       4\n",
       "3  Female   47          Bachelor     40   Middle             0       5\n",
       "4    Male   31            Master     40   Middle             0       5"
      ]
     },
     "execution_count": 9,
     "metadata": {},
     "output_type": "execute_result"
    }
   ],
   "source": [
    "df.head()"
   ]
  },
  {
   "cell_type": "code",
   "execution_count": 7,
   "metadata": {},
   "outputs": [
    {
     "name": "stdout",
     "output_type": "stream",
     "text": [
      "Average age in the sample is 44\n"
     ]
    }
   ],
   "source": [
    "#obtain average age\n",
    "print('Average age in the sample is {:.0f}'.format(df[\"age\"].mean()))"
   ]
  },
  {
   "cell_type": "code",
   "execution_count": 8,
   "metadata": {},
   "outputs": [
    {
     "name": "stdout",
     "output_type": "stream",
     "text": [
      "Average of working hours per week in the sample is 40\n"
     ]
    }
   ],
   "source": [
    "#obtain averages of working hours per week\n",
    "print('Average of working hours per week in the sample is {:.0f}'.format(df[\"hours\"].mean()))"
   ]
  },
  {
   "cell_type": "code",
   "execution_count": 9,
   "metadata": {},
   "outputs": [
    {
     "data": {
      "image/png": "[encoded data removed]",
      "text/plain": [
       "<Figure size 864x360 with 4 Axes>"
      ]
     },
     "metadata": {
      "needs_background": "light"
     },
     "output_type": "display_data"
    }
   ],
   "source": [
    "# obtain percentages of individuals by sex, level of education and earnings\n",
    "fig, axes = plt.subplots(2,2, figsize=(12,5))\n",
    "fig.suptitle('Percentages of individuals by sex, level of education and earnings', fontsize=16, y=1.08)\n",
    "df1 = df[['sex', 'education', 'earnings', 'health']]\n",
    "for ax, column in zip(axes.flatten(), df1):\n",
    "    sns.countplot(y=column, data=df1, ax=ax)\n",
    "    for p in ax.patches:\n",
    "        total = len(df1[column])\n",
    "        percentage = '{:.1f}%'.format(100 * p.get_width()/total)\n",
    "        x = p.get_x() + p.get_width() + 0.02\n",
    "        y = p.get_y() + p.get_height()/2\n",
    "        ax.annotate(percentage, (x, y))\n",
    "        ax.set_xlabel(' ')\n",
    "        ax.set_xticks([]) \n",
    "        ax.set_xlim([0, 16000])\n",
    "fig.tight_layout() "
   ]
  },
  {
   "cell_type": "markdown",
   "metadata": {},
   "source": [
    "*Now try to relate individual characteristics to the hospitalization status. Are high or low earners/old or young people more often hospitalized?*"
   ]
  },
  {
   "cell_type": "code",
   "execution_count": 10,
   "metadata": {},
   "outputs": [
    {
     "name": "stdout",
     "output_type": "stream",
     "text": [
      "Average age of hospitalized individuals is 46\n",
      "Average age of not hospitalized individuals is 43\n"
     ]
    }
   ],
   "source": [
    "#obtain average age by hospitalization status\n",
    "print('Average age of hospitalized individuals is {:.0f}'.format(df.loc[df['hospitalized'] == 1, 'age'].mean()))\n",
    "print('Average age of not hospitalized individuals is {:.0f}'.format(df.loc[df['hospitalized'] == 0, 'age'].mean()))"
   ]
  },
  {
   "cell_type": "code",
   "execution_count": 11,
   "metadata": {},
   "outputs": [
    {
     "name": "stdout",
     "output_type": "stream",
     "text": [
      "Average of working hours of hospitalized individuals is 39\n",
      "Average of working hours of not hospitalized individuals is 41\n"
     ]
    }
   ],
   "source": [
    "#obtain average of working hours per week by hospitalization status\n",
    "print('Average of working hours of hospitalized individuals is {:.0f}'.format(df.loc[df['hospitalized'] == 1, 'hours'].mean()))\n",
    "print('Average of working hours of not hospitalized individuals is {:.0f}'.format(df.loc[df['hospitalized'] == 0, 'hours'].mean()))"
   ]
  },
  {
   "cell_type": "code",
   "execution_count": 12,
   "metadata": {},
   "outputs": [
    {
     "data": {
      "image/png": "[encoded data removed]",
      "text/plain": [
       "<Figure size 1080x360 with 3 Axes>"
      ]
     },
     "metadata": {
      "needs_background": "light"
     },
     "output_type": "display_data"
    }
   ],
   "source": [
    "# obtain percentages of hospitalized individuals by sex, level of education and earnings\n",
    "df_hosp = df.query('hospitalized==1')\n",
    "gbl = globals()\n",
    "df_fix = df[['sex', 'education', 'earnings']]\n",
    "for column in df_fix:\n",
    "    gbl['df_'+ column] = pd.merge(df[column].value_counts().to_frame().reset_index(), \n",
    "                                  df_hosp[column].value_counts().to_frame().reset_index(), on='index')\n",
    "    gbl['df_'+ column]['percent'] = gbl['df_'+ column].iloc[:,2] * 100 / gbl['df_'+ column].iloc[:,1]\n",
    "fig, axes = plt.subplots(1,3, figsize=(15,5))\n",
    "fig.suptitle('Percent of hospitalized individuals by sex, level of education and earnings', fontsize=16)\n",
    "y_labels = ['sex', 'level of education', 'earnings']\n",
    "for ax, frame, i in zip(axes.flatten(), [df_sex, df_education, df_earnings], y_labels):\n",
    "    bars = ax.bar(frame['index'], frame['percent'], color=plt.cm.Paired(np.arange(len(frame))))\n",
    "    plt.draw()\n",
    "    ax.set_xticklabels(ax.get_xticklabels(), rotation=70)\n",
    "    ax.set_ylabel(i)\n",
    "    ax.set_ylim([0, 12])\n",
    "    ax.set_yticks([])\n",
    "    for bar in bars:\n",
    "        height = bar.get_height()\n",
    "        ax.text(bar.get_x() + bar.get_width()/2., 1.01*height, '{:.1f}%'.format(height), ha='center', va='bottom') "
   ]
  },
  {
   "cell_type": "markdown",
   "metadata": {},
   "source": [
    "## Task A.2\n",
    "\n",
    "*Compute the average health status of hospitalized and nonhospitalized individuals. Who is healthier on average? What could be a reason for this bias?*"
   ]
  },
  {
   "cell_type": "code",
   "execution_count": 22,
   "metadata": {},
   "outputs": [
    {
     "data": {
      "text/html": [
       "<div>\n",
       "<style scoped>\n",
       "    .dataframe tbody tr th:only-of-type {\n",
       "        vertical-align: middle;\n",
       "    }\n",
       "\n",
       "    .dataframe tbody tr th {\n",
       "        vertical-align: top;\n",
       "    }\n",
       "\n",
       "    .dataframe thead th {\n",
       "        text-align: right;\n",
       "    }\n",
       "</style>\n",
       "<table border=\"1\" class=\"dataframe\">\n",
       "  <thead>\n",
       "    <tr style=\"text-align: right;\">\n",
       "      <th></th>\n",
       "      <th>health</th>\n",
       "    </tr>\n",
       "    <tr>\n",
       "      <th>hospitalized</th>\n",
       "      <th></th>\n",
       "    </tr>\n",
       "  </thead>\n",
       "  <tbody>\n",
       "    <tr>\n",
       "      <th>0</th>\n",
       "      <td>4.0</td>\n",
       "    </tr>\n",
       "    <tr>\n",
       "      <th>1</th>\n",
       "      <td>3.6</td>\n",
       "    </tr>\n",
       "  </tbody>\n",
       "</table>\n",
       "</div>"
      ],
      "text/plain": [
       "              health\n",
       "hospitalized        \n",
       "0                4.0\n",
       "1                3.6"
      ]
     },
     "execution_count": 22,
     "metadata": {},
     "output_type": "execute_result"
    }
   ],
   "source": [
    "pd.options.display.float_format = '{:,.1f}'.format\n",
    "df.groupby('hospitalized')['health'].mean().to_frame()"
   ]
  },
  {
   "cell_type": "markdown",
   "metadata": {},
   "source": [
    "**Potential reason for the bias could be that individuals who are healthier are hospitalized less often than individuals who have worse health.**"
   ]
  },
  {
   "cell_type": "markdown",
   "metadata": {},
   "source": [
    "## Task A.3\n",
    "\n",
    "*Adjust the data set for the POM framework (as seen in the lecture), with health status as the outcome and hospitalization as the treatment status (Hint: rename and drop columns of the data frame).*"
   ]
  },
  {
   "cell_type": "code",
   "execution_count": 149,
   "metadata": {},
   "outputs": [
    {
     "data": {
      "text/html": [
       "<div>\n",
       "<style scoped>\n",
       "    .dataframe tbody tr th:only-of-type {\n",
       "        vertical-align: middle;\n",
       "    }\n",
       "\n",
       "    .dataframe tbody tr th {\n",
       "        vertical-align: top;\n",
       "    }\n",
       "\n",
       "    .dataframe thead th {\n",
       "        text-align: right;\n",
       "    }\n",
       "</style>\n",
       "<table border=\"1\" class=\"dataframe\">\n",
       "  <thead>\n",
       "    <tr style=\"text-align: right;\">\n",
       "      <th></th>\n",
       "      <th>sex</th>\n",
       "      <th>age</th>\n",
       "      <th>education</th>\n",
       "      <th>hours</th>\n",
       "      <th>earnings</th>\n",
       "      <th>hospitalized</th>\n",
       "      <th>health</th>\n",
       "      <th>Y</th>\n",
       "      <th>Y_0</th>\n",
       "      <th>Y_1</th>\n",
       "      <th>D</th>\n",
       "    </tr>\n",
       "  </thead>\n",
       "  <tbody>\n",
       "    <tr>\n",
       "      <th>0</th>\n",
       "      <td>Female</td>\n",
       "      <td>34</td>\n",
       "      <td>Never attended</td>\n",
       "      <td>45</td>\n",
       "      <td>Low</td>\n",
       "      <td>0</td>\n",
       "      <td>4</td>\n",
       "      <td>4</td>\n",
       "      <td>4</td>\n",
       "      <td>nan</td>\n",
       "      <td>0</td>\n",
       "    </tr>\n",
       "    <tr>\n",
       "      <th>1</th>\n",
       "      <td>Male</td>\n",
       "      <td>49</td>\n",
       "      <td>High school</td>\n",
       "      <td>32</td>\n",
       "      <td>Low</td>\n",
       "      <td>0</td>\n",
       "      <td>3</td>\n",
       "      <td>3</td>\n",
       "      <td>3</td>\n",
       "      <td>nan</td>\n",
       "      <td>0</td>\n",
       "    </tr>\n",
       "    <tr>\n",
       "      <th>2</th>\n",
       "      <td>Male</td>\n",
       "      <td>29</td>\n",
       "      <td>Associate degree</td>\n",
       "      <td>25</td>\n",
       "      <td>Middle</td>\n",
       "      <td>0</td>\n",
       "      <td>4</td>\n",
       "      <td>4</td>\n",
       "      <td>4</td>\n",
       "      <td>nan</td>\n",
       "      <td>0</td>\n",
       "    </tr>\n",
       "    <tr>\n",
       "      <th>3</th>\n",
       "      <td>Female</td>\n",
       "      <td>47</td>\n",
       "      <td>Bachelor</td>\n",
       "      <td>40</td>\n",
       "      <td>Middle</td>\n",
       "      <td>0</td>\n",
       "      <td>5</td>\n",
       "      <td>5</td>\n",
       "      <td>5</td>\n",
       "      <td>nan</td>\n",
       "      <td>0</td>\n",
       "    </tr>\n",
       "    <tr>\n",
       "      <th>4</th>\n",
       "      <td>Male</td>\n",
       "      <td>31</td>\n",
       "      <td>Master</td>\n",
       "      <td>40</td>\n",
       "      <td>Middle</td>\n",
       "      <td>0</td>\n",
       "      <td>5</td>\n",
       "      <td>5</td>\n",
       "      <td>5</td>\n",
       "      <td>nan</td>\n",
       "      <td>0</td>\n",
       "    </tr>\n",
       "  </tbody>\n",
       "</table>\n",
       "</div>"
      ],
      "text/plain": [
       "      sex  age         education  hours earnings  hospitalized  health  Y  \\\n",
       "0  Female   34    Never attended     45      Low             0       4  4   \n",
       "1    Male   49       High school     32      Low             0       3  3   \n",
       "2    Male   29  Associate degree     25   Middle             0       4  4   \n",
       "3  Female   47          Bachelor     40   Middle             0       5  5   \n",
       "4    Male   31            Master     40   Middle             0       5  5   \n",
       "\n",
       "   Y_0  Y_1  D  \n",
       "0    4  nan  0  \n",
       "1    3  nan  0  \n",
       "2    4  nan  0  \n",
       "3    5  nan  0  \n",
       "4    5  nan  0  "
      ]
     },
     "execution_count": 149,
     "metadata": {},
     "output_type": "execute_result"
    }
   ],
   "source": [
    "is_treated = df['hospitalized'] == 1\n",
    "\n",
    "df['Y'] = df['health']\n",
    "df['Y_0'] = df.loc[~is_treated, 'health']\n",
    "df['Y_1'] = df.loc[is_treated, 'health']\n",
    "\n",
    "df['D'] = np.nan\n",
    "df.loc[~is_treated, 'D'] = 0\n",
    "df.loc[is_treated, 'D'] = 1\n",
    "pd.options.display.float_format = '{:,.0f}'.format\n",
    "df.head()"
   ]
  },
  {
   "cell_type": "markdown",
   "metadata": {},
   "source": [
    "# Task A.4\n",
    "\n",
    "*Compute the naive estimate for the average treatment effect (ATE).*"
   ]
  },
  {
   "cell_type": "markdown",
   "metadata": {},
   "source": [
    "Later in B3"
   ]
  },
  {
   "cell_type": "markdown",
   "metadata": {},
   "source": [
    "## Task B.1\n",
    "\n",
    "*As we've seen in the lecture, in reality, we can only ever observe one counterfactual; however, when simulating data, we can bypass this problem. The (simulated) data set nhis-simulated.xslx contains counterfactual outcomes, i.e., outcomes under control for individuals assigned to the treatment group and vice versa. Derive and compute the average outcomes in the two observable and two unobservables states; Design them in a similar way as Table 2.3 in Morgan & Winship (2014)*"
   ]
  },
  {
   "cell_type": "code",
   "execution_count": 150,
   "metadata": {},
   "outputs": [
    {
     "data": {
      "text/html": [
       "<div>\n",
       "<style scoped>\n",
       "    .dataframe tbody tr th:only-of-type {\n",
       "        vertical-align: middle;\n",
       "    }\n",
       "\n",
       "    .dataframe tbody tr th {\n",
       "        vertical-align: top;\n",
       "    }\n",
       "\n",
       "    .dataframe thead th {\n",
       "        text-align: right;\n",
       "    }\n",
       "</style>\n",
       "<table border=\"1\" class=\"dataframe\">\n",
       "  <thead>\n",
       "    <tr style=\"text-align: right;\">\n",
       "      <th></th>\n",
       "      <th>sex</th>\n",
       "      <th>age</th>\n",
       "      <th>education</th>\n",
       "      <th>hours</th>\n",
       "      <th>earnings</th>\n",
       "      <th>hospitalized</th>\n",
       "      <th>health</th>\n",
       "      <th>Y</th>\n",
       "      <th>Y_0</th>\n",
       "      <th>Y_1</th>\n",
       "      <th>D</th>\n",
       "    </tr>\n",
       "  </thead>\n",
       "  <tbody>\n",
       "    <tr>\n",
       "      <th>0</th>\n",
       "      <td>Female</td>\n",
       "      <td>34</td>\n",
       "      <td>Never attended</td>\n",
       "      <td>45</td>\n",
       "      <td>Low</td>\n",
       "      <td>0</td>\n",
       "      <td>4</td>\n",
       "      <td>4</td>\n",
       "      <td>4</td>\n",
       "      <td>5</td>\n",
       "      <td>0</td>\n",
       "    </tr>\n",
       "    <tr>\n",
       "      <th>1</th>\n",
       "      <td>Male</td>\n",
       "      <td>49</td>\n",
       "      <td>High school</td>\n",
       "      <td>32</td>\n",
       "      <td>Low</td>\n",
       "      <td>0</td>\n",
       "      <td>3</td>\n",
       "      <td>3</td>\n",
       "      <td>3</td>\n",
       "      <td>5</td>\n",
       "      <td>0</td>\n",
       "    </tr>\n",
       "    <tr>\n",
       "      <th>2</th>\n",
       "      <td>Male</td>\n",
       "      <td>29</td>\n",
       "      <td>Associate degree</td>\n",
       "      <td>25</td>\n",
       "      <td>Middle</td>\n",
       "      <td>0</td>\n",
       "      <td>4</td>\n",
       "      <td>4</td>\n",
       "      <td>4</td>\n",
       "      <td>5</td>\n",
       "      <td>0</td>\n",
       "    </tr>\n",
       "    <tr>\n",
       "      <th>3</th>\n",
       "      <td>Female</td>\n",
       "      <td>47</td>\n",
       "      <td>Bachelor</td>\n",
       "      <td>40</td>\n",
       "      <td>Middle</td>\n",
       "      <td>0</td>\n",
       "      <td>5</td>\n",
       "      <td>5</td>\n",
       "      <td>5</td>\n",
       "      <td>5</td>\n",
       "      <td>0</td>\n",
       "    </tr>\n",
       "    <tr>\n",
       "      <th>4</th>\n",
       "      <td>Male</td>\n",
       "      <td>31</td>\n",
       "      <td>Master</td>\n",
       "      <td>40</td>\n",
       "      <td>Middle</td>\n",
       "      <td>0</td>\n",
       "      <td>5</td>\n",
       "      <td>5</td>\n",
       "      <td>5</td>\n",
       "      <td>5</td>\n",
       "      <td>0</td>\n",
       "    </tr>\n",
       "  </tbody>\n",
       "</table>\n",
       "</div>"
      ],
      "text/plain": [
       "      sex  age         education  hours earnings  hospitalized  health  Y  \\\n",
       "0  Female   34    Never attended     45      Low             0       4  4   \n",
       "1    Male   49       High school     32      Low             0       3  3   \n",
       "2    Male   29  Associate degree     25   Middle             0       4  4   \n",
       "3  Female   47          Bachelor     40   Middle             0       5  5   \n",
       "4    Male   31            Master     40   Middle             0       5  5   \n",
       "\n",
       "   Y_0  Y_1  D  \n",
       "0    4    5  0  \n",
       "1    3    5  0  \n",
       "2    4    5  0  \n",
       "3    5    5  0  \n",
       "4    5    5  0  "
      ]
     },
     "execution_count": 150,
     "metadata": {},
     "output_type": "execute_result"
    }
   ],
   "source": [
    "#simulate the data with E_Y1_D0 = 4.9 and E_Y0_D1 = 3.9\n",
    "lower = 1\n",
    "upper = 5\n",
    "mu01 = 4.9\n",
    "mu10 = 3.9\n",
    "sigma = 0.1\n",
    "N01 = df['Y_1'].isna().sum()\n",
    "N10 = df['Y_0'].isna().sum()\n",
    "df.loc[df['D'] == 0, 'Y_1'] = scipy.stats.truncnorm.rvs(\n",
    "          (lower-mu01)/sigma,(upper-mu01)/sigma,loc=mu01,scale=sigma,size=N01)\n",
    "df.loc[df['D'] == 1, 'Y_0'] = scipy.stats.truncnorm.rvs(\n",
    "          (lower-mu10)/sigma,(upper-mu10)/sigma,loc=mu10,scale=sigma,size=N10)\n",
    "df.head()"
   ]
  },
  {
   "cell_type": "code",
   "execution_count": 207,
   "metadata": {},
   "outputs": [
    {
     "data": {
      "text/html": [
       "<div>\n",
       "<style scoped>\n",
       "    .dataframe tbody tr th:only-of-type {\n",
       "        vertical-align: middle;\n",
       "    }\n",
       "\n",
       "    .dataframe tbody tr th {\n",
       "        vertical-align: top;\n",
       "    }\n",
       "\n",
       "    .dataframe thead th {\n",
       "        text-align: right;\n",
       "    }\n",
       "</style>\n",
       "<table border=\"1\" class=\"dataframe\">\n",
       "  <thead>\n",
       "    <tr style=\"text-align: right;\">\n",
       "      <th></th>\n",
       "      <th>Group</th>\n",
       "      <th>E[Y_1|.]</th>\n",
       "      <th>E[Y_0|.]</th>\n",
       "    </tr>\n",
       "  </thead>\n",
       "  <tbody>\n",
       "    <tr>\n",
       "      <th>0</th>\n",
       "      <td>Treatment group(D = 1)</td>\n",
       "      <td>3.6</td>\n",
       "      <td>3.9</td>\n",
       "    </tr>\n",
       "    <tr>\n",
       "      <th>1</th>\n",
       "      <td>Control group(D = 0)</td>\n",
       "      <td>4.9</td>\n",
       "      <td>4.0</td>\n",
       "    </tr>\n",
       "  </tbody>\n",
       "</table>\n",
       "</div>"
      ],
      "text/plain": [
       "                    Group  E[Y_1|.]  E[Y_0|.]\n",
       "0  Treatment group(D = 1)       3.6       3.9\n",
       "1    Control group(D = 0)       4.9       4.0"
      ]
     },
     "execution_count": 207,
     "metadata": {},
     "output_type": "execute_result"
    }
   ],
   "source": [
    "E_Y1_D1 = df.loc[df['D'] == 1, 'Y_1'].mean()\n",
    "E_Y1_D0 = df.loc[df['D'] == 0, 'Y_1'].mean()\n",
    "E_Y0_D1 = df.loc[df['D'] == 1, 'Y_0'].mean()\n",
    "E_Y0_D0 = df.loc[df['D'] == 0, 'Y_0'].mean()\n",
    "table = pd.DataFrame({'Group': ['Treatment group(D = 1)', 'Control group(D = 0)'], \n",
    "                      'E[Y_1|.]': [E_Y1_D1, E_Y1_D0], 'E[Y_0|.]': [E_Y0_D1, E_Y0_D0]})\n",
    "pd.options.display.float_format = '{:,.1f}'.format\n",
    "table"
   ]
  },
  {
   "cell_type": "markdown",
   "metadata": {},
   "source": [
    "## Task B.2 \n",
    "\n",
    "*From here on we assume that 5% of the population take the treatment.*\n",
    "\n",
    "*Derive and explain formula 2.12 from Morgan & Winship (2014) for the naive estimator as a decomposition of true ATE, baseline bias, and differential treatment fect bias (do this with pen and paper).*"
   ]
  },
  {
   "cell_type": "markdown",
   "metadata": {},
   "source": [
    "Considering the proportion of the population assigned to the treatment, the ATE is decomposed as (2.8): \n",
    "\n",
    "$$E[\\delta] = \\{\\pi E[Y^1|D=1] + (1 - \\pi)E[Y^1|D=0]\\} - \\{\\pi E[Y^0|D=1] + (1 - \\pi)E[Y^0|D=0]\\}$$\n",
    "\n",
    "Rearranging the terms:\n",
    "\n",
    "$$E[Y^1|D=1] - E[Y^0|D=0] = E[\\delta] + E[Y^1|D=1] - \\pi E[Y^1|D=1] - E[Y^1|D=0] + \\pi E[Y^1|D=0] + \\pi E[Y^0|D=1] - \\pi E[Y^0|D=0]$$\n",
    "\n",
    "Equivalently:\n",
    "\n",
    "$$E[Y^1|D=1] - E[Y^0|D=0] = E[\\delta]$$\n",
    "$$+ \\{E[Y^0|D=1] - \\pi E[Y^0|D=0]\\}$$\n",
    "$$+ \\{(1-\\pi)[(E[Y^1|D=1]) - E[Y^0|D=1]) - (E[Y^1|D=0]  - E[Y^0|D=0)]\\}$$\n",
    "\n",
    "Or (2.12):\n",
    "\n",
    "$$E[Y^1|D=1] - E[Y^0|D=0] = E[\\delta]$$\n",
    "$$+ \\{E[Y^0|D=1] - E[Y^0|D=0]\\}$$\n",
    "$$+ \\{(1-\\pi)[(E[\\delta|D=1]) - (E[\\delta|D=0)]\\},$$\n",
    "\n",
    "where the first line represents true ATE, the second - baseline bias, and the third - differential treatment bias."
   ]
  },
  {
   "cell_type": "markdown",
   "metadata": {},
   "source": [
    "## Task B.3\n",
    "\n",
    "*Calculate the baseline bias and differential treatment effect bias. How could we interpret these biases in our framework of health status of hospitalized and non-hospitalized respondents? Compute the naive estimate and true value of the ATE for the simulated data. Is the naive estimator upwardly or downwardly biased?*"
   ]
  },
  {
   "cell_type": "code",
   "execution_count": 219,
   "metadata": {},
   "outputs": [
    {
     "name": "stdout",
     "output_type": "stream",
     "text": [
      "Baseline bias is -0.1\n",
      "Differential treatment effect bias is -1.2\n",
      "Naive estimator is -0.4\n",
      "True ATE is 0.9\n"
     ]
    }
   ],
   "source": [
    "pi = 0.05\n",
    "baseline_bias = E_Y0_D1 - E_Y0_D0\n",
    "differential_bias = (1-pi)*((E_Y1_D1 - E_Y0_D1) - (E_Y1_D0 - E_Y0_D0))\n",
    "naive = E_Y1_D1 - E_Y0_D0\n",
    "true_ate = naive - (baseline_bias + differential_bias)\n",
    "print('Baseline bias is {:.1f}'.format(baseline_bias))\n",
    "print('Differential treatment effect bias is {:.1f}'.format(differential_bias))\n",
    "print('Naive estimator is {:.1f}'.format(naive))\n",
    "print('True ATE is {:.1f}'.format(true_ate))"
   ]
  },
  {
   "cell_type": "markdown",
   "metadata": {},
   "source": [
    "Interpretation: \n",
    "\n",
    "**Baseline base** tells us that those who have been hospitalized would have had worse health (3.9) than those who were not (4.0) in the counterfactual state in which they were not in fact hospitalized. One possible explanation could be that these hospitalized individuals in the counterfactual state could have been exposed to the the diseases from the other patients and, therefore, their health could have worsened.\n",
    "\n",
    "**Negative differential treatment effect bias** comes from the fact that hospitalized individuals who have sought medical care are not as healthy, on average, as those who never get hospitalized in the first place. \n",
    "\n",
    "Therefore, we can conclude that **naive estimator is downwardly biased**: both negative baseline and differential treatment effect biases outpace the true positive ATE from hospitals."
   ]
  },
  {
   "cell_type": "markdown",
   "metadata": {},
   "source": [
    "## Task B.4 \n",
    "\n",
    "*Which assumptions must hold (on the data) such that the naive estimator is an unbiased and consistent estimator for the ATE?*"
   ]
  },
  {
   "cell_type": "markdown",
   "metadata": {},
   "source": [
    "SUTVA: independence assumption $(Y^0, Y^1) \\parallel D$ should hold. In other words, $E[Y^1|D=1]  = E[Y^1|D=0]$ and $E[Y^0|D=1] = E[Y^0|D=0]$ guarantee that treatment indicator is independent of the potential outcomes."
   ]
  }
 ],
 "metadata": {
  "kernelspec": {
   "display_name": "Python 3",
   "language": "python",
   "name": "python3"
  },
  "language_info": {
   "codemirror_mode": {
    "name": "ipython",
    "version": 3
   },
   "file_extension": ".py",
   "mimetype": "text/x-python",
   "name": "python",
   "nbconvert_exporter": "python",
   "pygments_lexer": "ipython3",
   "version": "3.7.4"
  }
 },
 "nbformat": 4,
 "nbformat_minor": 2
}
