{
 "cells": [
  {
   "cell_type": "code",
   "execution_count": 1,
   "metadata": {},
   "outputs": [],
   "source": [
    "import pandas as pd\n",
    "import numpy as np\n",
    "import matplotlib.pyplot as plt\n",
    "import statsmodels.formula.api as smf"
   ]
  },
  {
   "cell_type": "code",
   "execution_count": 2,
   "metadata": {},
   "outputs": [],
   "source": [
    "from sklearn.linear_model import LogisticRegression\n",
    "from sklearn.linear_model import LinearRegression\n",
    "from sklearn.model_selection import LeaveOneOut\n",
    "from sklearn.model_selection import cross_val_score"
   ]
  },
  {
   "cell_type": "markdown",
   "metadata": {},
   "source": [
    "# Task A\n",
    "\n",
    "*What is the main assumption that makes RDD possible? Define the local randomization condition in the simplified setup presented in the lecture.*"
   ]
  },
  {
   "cell_type": "markdown",
   "metadata": {},
   "source": [
    "Main assumption: agents are unable to precisely control the assignment variable near the known cutoff what leads to the randomized variation in treatment near the threshold.\n",
    "\n",
    "local randomization.\n",
    "\n",
    "The framework:\n",
    "$$Y = D \\tau + W \\delta_1 + U$$\n",
    "$$D = I(X \\geq c)$$\n",
    "$$X = W \\delta_2 + V,$$\n",
    "\n",
    "where:\n",
    "- Y is the outcome of interest, \n",
    "- D is the binary treatment indicator, \n",
    "- W is the vector of all predetermined and observable characteristics of the individual that might impact Y and/or X,\n",
    "- X is the assignment variable,\n",
    "- c is the cutoff value\n",
    "\n",
    "Individuals have imprecise control over X when conditional on W = w and U = u, the density of V (and hence X) is continuous. \n",
    "\n",
    "*Definition of Local Randomization:* if individuals have imprecise control over X, then Pr\\[W = w,U = u|X = x\\] is continuous in x: the treatment is “as good as” randomly assigned around the cutoff."
   ]
  },
  {
   "cell_type": "markdown",
   "metadata": {},
   "source": [
    "# Task B.1\n",
    "\n",
    "*Create a new variable that groups the assignment variable values into 400 bins with a size of 0.005*"
   ]
  },
  {
   "cell_type": "code",
   "execution_count": 3,
   "metadata": {},
   "outputs": [
    {
     "data": {
      "text/html": [
       "<div>\n",
       "<style scoped>\n",
       "    .dataframe tbody tr th:only-of-type {\n",
       "        vertical-align: middle;\n",
       "    }\n",
       "\n",
       "    .dataframe tbody tr th {\n",
       "        vertical-align: top;\n",
       "    }\n",
       "\n",
       "    .dataframe thead th {\n",
       "        text-align: right;\n",
       "    }\n",
       "</style>\n",
       "<table border=\"1\" class=\"dataframe\">\n",
       "  <thead>\n",
       "    <tr style=\"text-align: right;\">\n",
       "      <th></th>\n",
       "      <th>year</th>\n",
       "      <th>outcome</th>\n",
       "      <th>outcomenext</th>\n",
       "      <th>difshare</th>\n",
       "      <th>bin</th>\n",
       "    </tr>\n",
       "  </thead>\n",
       "  <tbody>\n",
       "    <tr>\n",
       "      <th>18067</th>\n",
       "      <td>1960</td>\n",
       "      <td>0</td>\n",
       "      <td>-1</td>\n",
       "      <td>-0.998273</td>\n",
       "      <td>0.0</td>\n",
       "    </tr>\n",
       "    <tr>\n",
       "      <th>17946</th>\n",
       "      <td>1962</td>\n",
       "      <td>0</td>\n",
       "      <td>-1</td>\n",
       "      <td>-0.999653</td>\n",
       "      <td>0.0</td>\n",
       "    </tr>\n",
       "    <tr>\n",
       "      <th>17947</th>\n",
       "      <td>1962</td>\n",
       "      <td>0</td>\n",
       "      <td>-1</td>\n",
       "      <td>-0.999653</td>\n",
       "      <td>0.0</td>\n",
       "    </tr>\n",
       "    <tr>\n",
       "      <th>17948</th>\n",
       "      <td>1962</td>\n",
       "      <td>0</td>\n",
       "      <td>-1</td>\n",
       "      <td>-0.999653</td>\n",
       "      <td>0.0</td>\n",
       "    </tr>\n",
       "    <tr>\n",
       "      <th>17949</th>\n",
       "      <td>1962</td>\n",
       "      <td>0</td>\n",
       "      <td>-1</td>\n",
       "      <td>-0.999653</td>\n",
       "      <td>0.0</td>\n",
       "    </tr>\n",
       "    <tr>\n",
       "      <th>...</th>\n",
       "      <td>...</td>\n",
       "      <td>...</td>\n",
       "      <td>...</td>\n",
       "      <td>...</td>\n",
       "      <td>...</td>\n",
       "    </tr>\n",
       "    <tr>\n",
       "      <th>15841</th>\n",
       "      <td>1954</td>\n",
       "      <td>1</td>\n",
       "      <td>1</td>\n",
       "      <td>0.999922</td>\n",
       "      <td>399.0</td>\n",
       "    </tr>\n",
       "    <tr>\n",
       "      <th>18050</th>\n",
       "      <td>1960</td>\n",
       "      <td>1</td>\n",
       "      <td>1</td>\n",
       "      <td>0.997548</td>\n",
       "      <td>399.0</td>\n",
       "    </tr>\n",
       "    <tr>\n",
       "      <th>20564</th>\n",
       "      <td>1960</td>\n",
       "      <td>1</td>\n",
       "      <td>1</td>\n",
       "      <td>0.999951</td>\n",
       "      <td>399.0</td>\n",
       "    </tr>\n",
       "    <tr>\n",
       "      <th>16413</th>\n",
       "      <td>1946</td>\n",
       "      <td>1</td>\n",
       "      <td>1</td>\n",
       "      <td>0.996996</td>\n",
       "      <td>399.0</td>\n",
       "    </tr>\n",
       "    <tr>\n",
       "      <th>17941</th>\n",
       "      <td>1962</td>\n",
       "      <td>1</td>\n",
       "      <td>1</td>\n",
       "      <td>0.999595</td>\n",
       "      <td>399.0</td>\n",
       "    </tr>\n",
       "  </tbody>\n",
       "</table>\n",
       "<p>26077 rows × 5 columns</p>\n",
       "</div>"
      ],
      "text/plain": [
       "       year  outcome  outcomenext  difshare    bin\n",
       "18067  1960        0           -1 -0.998273    0.0\n",
       "17946  1962        0           -1 -0.999653    0.0\n",
       "17947  1962        0           -1 -0.999653    0.0\n",
       "17948  1962        0           -1 -0.999653    0.0\n",
       "17949  1962        0           -1 -0.999653    0.0\n",
       "...     ...      ...          ...       ...    ...\n",
       "15841  1954        1            1  0.999922  399.0\n",
       "18050  1960        1            1  0.997548  399.0\n",
       "20564  1960        1            1  0.999951  399.0\n",
       "16413  1946        1            1  0.996996  399.0\n",
       "17941  1962        1            1  0.999595  399.0\n",
       "\n",
       "[26077 rows x 5 columns]"
      ]
     },
     "execution_count": 3,
     "metadata": {},
     "output_type": "execute_result"
    }
   ],
   "source": [
    "df = pd.read_stata('data/individ_final.dta')\n",
    "bins = np.linspace(-1, 1, num=401)\n",
    "labels =  np.linspace(0, 399, num=400)\n",
    "df['bin'] = pd.cut(df.difshare, bins, labels = labels,include_lowest = True)\n",
    "df['bin'] = pd.to_numeric(df['bin'])\n",
    "df = df.sort_values(by='bin')\n",
    "df"
   ]
  },
  {
   "cell_type": "markdown",
   "metadata": {},
   "source": [
    "# Task B.2\n",
    "\n",
    "*Since we are interested in a causal influence on the probability that the candidate will win the next election based on winning the current election, drop the rows that do not have a comparable next election.*"
   ]
  },
  {
   "cell_type": "code",
   "execution_count": 4,
   "metadata": {},
   "outputs": [
    {
     "data": {
      "text/html": [
       "<div>\n",
       "<style scoped>\n",
       "    .dataframe tbody tr th:only-of-type {\n",
       "        vertical-align: middle;\n",
       "    }\n",
       "\n",
       "    .dataframe tbody tr th {\n",
       "        vertical-align: top;\n",
       "    }\n",
       "\n",
       "    .dataframe thead th {\n",
       "        text-align: right;\n",
       "    }\n",
       "</style>\n",
       "<table border=\"1\" class=\"dataframe\">\n",
       "  <thead>\n",
       "    <tr style=\"text-align: right;\">\n",
       "      <th></th>\n",
       "      <th>year</th>\n",
       "      <th>outcome</th>\n",
       "      <th>outcomenext</th>\n",
       "      <th>difshare</th>\n",
       "      <th>bin</th>\n",
       "    </tr>\n",
       "  </thead>\n",
       "  <tbody>\n",
       "    <tr>\n",
       "      <th>13050</th>\n",
       "      <td>1952</td>\n",
       "      <td>0</td>\n",
       "      <td>0</td>\n",
       "      <td>-0.996721</td>\n",
       "      <td>0.0</td>\n",
       "    </tr>\n",
       "    <tr>\n",
       "      <th>16761</th>\n",
       "      <td>1946</td>\n",
       "      <td>0</td>\n",
       "      <td>0</td>\n",
       "      <td>-0.999268</td>\n",
       "      <td>0.0</td>\n",
       "    </tr>\n",
       "    <tr>\n",
       "      <th>23171</th>\n",
       "      <td>1968</td>\n",
       "      <td>0</td>\n",
       "      <td>0</td>\n",
       "      <td>-0.901280</td>\n",
       "      <td>19.0</td>\n",
       "    </tr>\n",
       "    <tr>\n",
       "      <th>15113</th>\n",
       "      <td>1968</td>\n",
       "      <td>0</td>\n",
       "      <td>0</td>\n",
       "      <td>-0.853781</td>\n",
       "      <td>29.0</td>\n",
       "    </tr>\n",
       "    <tr>\n",
       "      <th>14899</th>\n",
       "      <td>1980</td>\n",
       "      <td>0</td>\n",
       "      <td>0</td>\n",
       "      <td>-0.809648</td>\n",
       "      <td>38.0</td>\n",
       "    </tr>\n",
       "    <tr>\n",
       "      <th>...</th>\n",
       "      <td>...</td>\n",
       "      <td>...</td>\n",
       "      <td>...</td>\n",
       "      <td>...</td>\n",
       "      <td>...</td>\n",
       "    </tr>\n",
       "    <tr>\n",
       "      <th>15841</th>\n",
       "      <td>1954</td>\n",
       "      <td>1</td>\n",
       "      <td>1</td>\n",
       "      <td>0.999922</td>\n",
       "      <td>399.0</td>\n",
       "    </tr>\n",
       "    <tr>\n",
       "      <th>18050</th>\n",
       "      <td>1960</td>\n",
       "      <td>1</td>\n",
       "      <td>1</td>\n",
       "      <td>0.997548</td>\n",
       "      <td>399.0</td>\n",
       "    </tr>\n",
       "    <tr>\n",
       "      <th>20564</th>\n",
       "      <td>1960</td>\n",
       "      <td>1</td>\n",
       "      <td>1</td>\n",
       "      <td>0.999951</td>\n",
       "      <td>399.0</td>\n",
       "    </tr>\n",
       "    <tr>\n",
       "      <th>16413</th>\n",
       "      <td>1946</td>\n",
       "      <td>1</td>\n",
       "      <td>1</td>\n",
       "      <td>0.996996</td>\n",
       "      <td>399.0</td>\n",
       "    </tr>\n",
       "    <tr>\n",
       "      <th>17941</th>\n",
       "      <td>1962</td>\n",
       "      <td>1</td>\n",
       "      <td>1</td>\n",
       "      <td>0.999595</td>\n",
       "      <td>399.0</td>\n",
       "    </tr>\n",
       "  </tbody>\n",
       "</table>\n",
       "<p>9674 rows × 5 columns</p>\n",
       "</div>"
      ],
      "text/plain": [
       "       year  outcome  outcomenext  difshare    bin\n",
       "13050  1952        0            0 -0.996721    0.0\n",
       "16761  1946        0            0 -0.999268    0.0\n",
       "23171  1968        0            0 -0.901280   19.0\n",
       "15113  1968        0            0 -0.853781   29.0\n",
       "14899  1980        0            0 -0.809648   38.0\n",
       "...     ...      ...          ...       ...    ...\n",
       "15841  1954        1            1  0.999922  399.0\n",
       "18050  1960        1            1  0.997548  399.0\n",
       "20564  1960        1            1  0.999951  399.0\n",
       "16413  1946        1            1  0.996996  399.0\n",
       "17941  1962        1            1  0.999595  399.0\n",
       "\n",
       "[9674 rows x 5 columns]"
      ]
     },
     "execution_count": 4,
     "metadata": {},
     "output_type": "execute_result"
    }
   ],
   "source": [
    "df = df[(df['outcomenext'] == 1) | (df['outcomenext'] == 0) ]\n",
    "df"
   ]
  },
  {
   "cell_type": "markdown",
   "metadata": {},
   "source": [
    "# Task B.3\n",
    "\n",
    "*Find the mean of the outcome variable for each bin or, in other words, local average. Draw this relationship on the scatterplot.*"
   ]
  },
  {
   "cell_type": "code",
   "execution_count": 8,
   "metadata": {},
   "outputs": [
    {
     "data": {
      "text/plain": [
       "<matplotlib.collections.PathCollection at 0x2211238c408>"
      ]
     },
     "execution_count": 8,
     "metadata": {},
     "output_type": "execute_result"
    },
    {
     "data": {
      "image/png": "[encoded data removed]",
      "text/plain": [
       "<Figure size 432x288 with 1 Axes>"
      ]
     },
     "metadata": {
      "needs_background": "light"
     },
     "output_type": "display_data"
    }
   ],
   "source": [
    "dfm = df.groupby('bin').mean()\n",
    "x = np.linspace(-1, 1, num=342)\n",
    "plt.scatter(x, dfm['outcomenext'])"
   ]
  },
  {
   "cell_type": "markdown",
   "metadata": {},
   "source": [
    "# Task B.4\n",
    "\n",
    "*For better visuality we also add to the graph the fitted values of logistic regression around the cutoff. For this apply logistic regression separately on either side of the threshold (we take the bins with the share values from -0.25 to 0.25 and use the package LogisticRegression from sklearn.linear_model). Extract probability estimates. Add them to the scatterplot in the proximity of cutoff. Do you observe a discontinuity at the cutoff point?*"
   ]
  },
  {
   "cell_type": "code",
   "execution_count": 11,
   "metadata": {},
   "outputs": [
    {
     "name": "stderr",
     "output_type": "stream",
     "text": [
      "C:\\Users\\liudm\\Anaconda3\\lib\\site-packages\\sklearn\\utils\\validation.py:724: DataConversionWarning: A column-vector y was passed when a 1d array was expected. Please change the shape of y to (n_samples, ), for example using ravel().\n",
      "  y = column_or_1d(y, warn=True)\n",
      "C:\\Users\\liudm\\Anaconda3\\lib\\site-packages\\scipy\\optimize\\linesearch.py:314: LineSearchWarning: The line search algorithm did not converge\n",
      "  warn('The line search algorithm did not converge', LineSearchWarning)\n",
      "C:\\Users\\liudm\\Anaconda3\\lib\\site-packages\\sklearn\\utils\\optimize.py:195: UserWarning: Line Search failed\n",
      "  warnings.warn('Line Search failed')\n",
      "C:\\Users\\liudm\\Anaconda3\\lib\\site-packages\\sklearn\\utils\\validation.py:724: DataConversionWarning: A column-vector y was passed when a 1d array was expected. Please change the shape of y to (n_samples, ), for example using ravel().\n",
      "  y = column_or_1d(y, warn=True)\n"
     ]
    },
    {
     "data": {
      "image/png": "[encoded data removed]",
      "text/plain": [
       "<Figure size 432x288 with 1 Axes>"
      ]
     },
     "metadata": {
      "needs_background": "light"
     },
     "output_type": "display_data"
    }
   ],
   "source": [
    "#split the sample into two parts before and after cutoff\n",
    "df_left = df[(df['difshare'] >= -0.25) & (df['difshare'] < 0) ]\n",
    "df_right = df[(df['difshare'] >= 0) & (df['difshare'] <= 0.25) ]\n",
    "x_left = df_left['difshare'].values.reshape(-1, 1)\n",
    "y_left = df_left['outcomenext'].values.reshape(-1, 1)\n",
    "x_right = df_right['difshare'].values.reshape(-1, 1)\n",
    "y_right = df_right['outcomenext'].values.reshape(-1, 1)\n",
    "\n",
    "#apply Logistic Regression and extract propensity score\n",
    "lr_left = LogisticRegression(solver = 'newton-cg', C=1e20)\n",
    "lr_left.fit(x_left, y_left)\n",
    "prob_left = lr_left.predict_proba(x_left)[:, 1]\n",
    "lr_right = LogisticRegression(solver = 'newton-cg', C=1e20)\n",
    "lr_right.fit(x_right, y_right)\n",
    "prob_right = lr_right.predict_proba(x_right)[:, 1]\n",
    "\n",
    "#draw the plot\n",
    "fig, ax = plt.subplots()\n",
    "ax.set_xlim(-0.25, 0.25)\n",
    "ax.set_xticks(np.arange(-0.25, 0.251, step=0.05))\n",
    "ax.set_ylim(0.0, 1.0)\n",
    "ax.set_yticks(np.arange(0.0, 1.01, step=0.1))\n",
    "dfm = dfm[(dfm['difshare'] >= -0.25) & (dfm['difshare'] <= 0.25) ]\n",
    "x = np.linspace(-0.25, 0.25, num=100)\n",
    "ax.scatter(x, dfm['outcomenext'], label = 'Local Average')\n",
    "ax.axvline(0.0, linestyle = ':')\n",
    "ax.plot(x_left, prob_left, label = 'Logit fit')\n",
    "ax.plot(x_right, prob_right, label = 'Logit fit')\n",
    "ax.set_xlabel('Vote Share Margin of Victory, Election t')\n",
    "ax.set_ylabel('Probability of Winning Election t+1')\n",
    "ax.legend()\n",
    "\n",
    "plt.show()"
   ]
  },
  {
   "cell_type": "markdown",
   "metadata": {},
   "source": [
    "# Task C\n",
    "\n",
    "*Run the LLR with a specification $Y = \\alpha_r + \\tau D + \\beta X + \\gamma X D + \\epsilon$, where X is rectricted by a bandwidth: $h \\geq X \\geq -h$. Interpret the result. Experiment with few bandwidths on your choice.*"
   ]
  },
  {
   "cell_type": "code",
   "execution_count": 12,
   "metadata": {},
   "outputs": [
    {
     "name": "stdout",
     "output_type": "stream",
     "text": [
      " Bandwidth: 0.25   Effect 52.439%    pvalue 0.000\n",
      " Bandwidth:  0.2   Effect 49.521%    pvalue 0.000\n",
      " Bandwidth:  0.1   Effect 43.861%    pvalue 0.000\n",
      " Bandwidth: 0.05   Effect 38.910%    pvalue 0.000\n",
      " Bandwidth: 0.01   Effect 25.700%    pvalue 0.069\n"
     ]
    }
   ],
   "source": [
    "for h in [0.25, 0.2, 0.1, 0.05, 0.01]:\n",
    "    dfreg = df[df['difshare'].between(-h, h)]\n",
    "    rslt = smf.ols(formula='outcomenext ~ outcome + difshare + difshare*outcome', data=dfreg).fit()\n",
    "    info = [h, rslt.params[1] * 100, rslt.pvalues[1]]\n",
    "    print(' Bandwidth: {:>4}   Effect {:5.3f}%    pvalue {:5.3f}'.format(*info))"
   ]
  },
  {
   "cell_type": "markdown",
   "metadata": {},
   "source": [
    "# Task D\n",
    "\n",
    "*If you want to practice your Python skills, we recommend to work with the packages LeaveOneOut() and cross_val_score from sklearn.model_selection and to write the code that finds the optimal bandwidth. Otherwise, we created the file auxiliary.py with a solution. Use it to draw the graph showing the relationship between the bandwidth and the mean square error. What is the optimal bandwidth for LLR in our framework?*"
   ]
  },
  {
   "cell_type": "code",
   "execution_count": 5,
   "metadata": {},
   "outputs": [],
   "source": [
    "# create two sides around the cutoff\n",
    "df_right = df\n",
    "df_left = df[(df['difshare'] >= -0.5) & (df['difshare'] < 0) ]\n",
    "df_right = df_right[(df_right['difshare'] >= 0) & (df_right['difshare'] <= 0.5) ]\n",
    "# create necessary arrays\n",
    "position = np.linspace(0, 99, num=100).astype(int)\n",
    "width_left = np.linspace(199, 100, num=100).astype(int)\n",
    "error_mean_left = np.linspace(0, 0, num=100)\n",
    "width_right = np.linspace(200, 299, num=100).astype(int)\n",
    "error_mean_right = np.linspace(0, 0, num=100)\n",
    "#run cross-validation on each side\n",
    "for h, p in zip(width_left, position):\n",
    "    dfreg = df_left[(df_left['bin'] >= h)]\n",
    "    X = dfreg['difshare'].values.reshape(-1, 1)\n",
    "    y = dfreg['outcomenext'].values.reshape(-1, 1)\n",
    "    loocv = LeaveOneOut()\n",
    "    model = LinearRegression()\n",
    "    results = cross_val_score(model, X, y, scoring='neg_mean_squared_error', cv=loocv)\n",
    "    error_mean_left[p] = results.mean()*(-1)\n",
    "for h, p in zip(width_right, position):\n",
    "    dfreg = df_right[(df_right['bin'] <= h)]\n",
    "    X = dfreg['difshare'].values.reshape(-1, 1)\n",
    "    y = dfreg['outcomenext'].values.reshape(-1, 1)\n",
    "    loocv = LeaveOneOut()\n",
    "    model = LinearRegression()\n",
    "    results = cross_val_score(model, X, y, scoring='neg_mean_squared_error', cv=loocv)\n",
    "    error_mean_right[p] = results.mean()*(-1)"
   ]
  },
  {
   "cell_type": "code",
   "execution_count": 12,
   "metadata": {},
   "outputs": [
    {
     "data": {
      "image/png": "[encoded data removed]",
      "text/plain": [
       "<Figure size 432x288 with 1 Axes>"
      ]
     },
     "metadata": {
      "needs_background": "light"
     },
     "output_type": "display_data"
    }
   ],
   "source": [
    "#find mean error on both sides of the cutoff and plot it\n",
    "error_mean_right_corr = error_mean_right[::-1]\n",
    "error = (error_mean_left + error_mean_right_corr)/2\n",
    "bandwidth = np.linspace(0, 0.5, num=100)\n",
    "fig, ax = plt.subplots()\n",
    "ax.plot(bandwidth, error)\n",
    "ax.set_xlabel('Bandwidth')\n",
    "ax.set_ylabel('Mean squared error')\n",
    "plt.show()"
   ]
  },
  {
   "cell_type": "code",
   "execution_count": 13,
   "metadata": {},
   "outputs": [
    {
     "name": "stdout",
     "output_type": "stream",
     "text": [
      " Optimal bandwidth: 0.247\n"
     ]
    }
   ],
   "source": [
    "df = pd.DataFrame({'bandwidth': bandwidth, 'error': error}, columns=['bandwidth', 'error'])\n",
    "df = df[df.error == df.error.min()]\n",
    "print(' Optimal bandwidth: {:5.3f}'.format(df.iloc[0,0])) "
   ]
  }
 ],
 "metadata": {
  "kernelspec": {
   "display_name": "Python 3",
   "language": "python",
   "name": "python3"
  },
  "language_info": {
   "codemirror_mode": {
    "name": "ipython",
    "version": 3
   },
   "file_extension": ".py",
   "mimetype": "text/x-python",
   "name": "python",
   "nbconvert_exporter": "python",
   "pygments_lexer": "ipython3",
   "version": "3.7.4"
  }
 },
 "nbformat": 4,
 "nbformat_minor": 2
}
