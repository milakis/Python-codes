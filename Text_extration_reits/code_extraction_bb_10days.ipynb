{
 "cells": [
  {
   "cell_type": "code",
   "execution_count": 2,
   "metadata": {},
   "outputs": [],
   "source": [
    "import pandas as pd\n",
    "import numpy as np\n",
    "import re\n",
    "from unidecode import unidecode"
   ]
  },
  {
   "cell_type": "code",
   "execution_count": 3,
   "metadata": {},
   "outputs": [],
   "source": [
    "pd.set_option('display.max_rows', 500)"
   ]
  },
  {
   "cell_type": "code",
   "execution_count": null,
   "metadata": {},
   "outputs": [],
   "source": [
    "df = pd.read_csv(\"/home/mila/PycharmProjects/Python-codes/Data_scraping/houses_ready.csv\", sep=',', low_memory=False, encoding='utf-8', na_values=' ')\n",
    "df = df.applymap(str)\n",
    "\n",
    "for i in df.columns:\n",
    "    df[i] = df[i].str.replace('=', '')\n",
    "    df[i] = df[i].str.replace('\"', '')\n",
    "    df[i] = df[i].str.replace('None', '')\n",
    "    df[i] = df[i].str.replace('nan', '')\n",
    "\n",
    "df = df.replace(np.nan, '')\n",
    "\n",
    "del df['Unnamed: 0']\n",
    "df1 = df['date']\n",
    "del df['date']\n",
    "df['all'] = df[df.columns].apply(\n",
    "    lambda x: ' '.join(x.dropna().astype(str)),\n",
    "    axis=1\n",
    ")\n",
    "df = df['all'].to_frame()\n",
    "df = pd.concat([df1,df], axis=1)\n",
    "df.to_excel(\"10_days1.xlsx\")\n",
    "# len(df[df.num.notnull()]) \n",
    "#dictionary = {'Ã': 'a'}\n",
    "#df = df.replace(dictionary, regex=False, inplace=True)\n",
    "#df = df.style.set_properties(subset=['all'], **{'width': '300px'})"
   ]
  },
  {
   "cell_type": "code",
   "execution_count": null,
   "metadata": {},
   "outputs": [],
   "source": [
    "#add a column in df with only 3 extracted digits - candidates for rents\n",
    "df['3num'] = df['all'].str.extract(r'(?<!\\d)(\\d{3})(?!\\d)', expand=False)\n",
    "#form new df with them\n",
    "df3num = df[df['3num'].notnull()]\n",
    "#extract all with slash space with space\n",
    "df3num['slash_space'] = df3num['all'].str.extract(r'\\/[^\\S](\\d{3})(?!\\d)', expand=False)\n",
    "#extract all with slash space\n",
    "df3num['slash'] = df3num['all'].str.extract(r'\\/(?<!\\d)(\\d{3})(?!\\d)', expand=False)\n",
    "#extract 3 digits, space and zeros\n",
    "df3num['zeros'] = df3num['all'].str.extract(r'[/0/][/0/][^\\S](?<!\\d)(\\d{3})(?!\\d)', expand=False)\n",
    "#delete prices with 3 digits, space and 000\n",
    "re_express = re.compile('([\\d]{3})[^\\S][/0/][/0/][/0/].*')\n",
    "df3num['all'] = df3num['all'].str.replace(re_express, '')\n",
    "#find all with kr . 3dig\n",
    "df3num['kr'] = df3num['all'].str.extract(r'[/kr/][^\\S][/.][^\\S](\\d{3})(?!\\d)', expand=False)\n",
    "#find all with kı . 3dig\n",
    "df3num['ki'] = df3num['all'].str.extract(r'[/kı/][^\\S][/.][^\\S](\\d{3})(?!\\d)', expand=False)\n",
    "#find leie 3dig - choose others too - why?\n",
    "df3num['leie'] = df3num['all'].str.extract(r'[/leie/][^\\S](\\d{3})(?!\\d)', expand=False)\n",
    "#match rent to one column\n",
    "df3num['rent'] = df3num['slash']\n",
    "df3num.loc[df3num['rent'].isnull(),'rent'] = df3num['kr']\n",
    "df3num.loc[df3num['rent'].isnull(),'rent'] = df3num['ki']\n",
    "df3num.loc[df3num['rent'].isnull(),'rent'] = df3num['leie']\n",
    "df3num.loc[df3num['rent'].isnull(),'rent'] = df3num['zeros']\n",
    "dfr = df3num[pd.notnull(df3num['rent'])].reset_index(drop=True)"
   ]
  },
  {
   "cell_type": "code",
   "execution_count": null,
   "metadata": {},
   "outputs": [],
   "source": [
    "#dfr = dfr.style.set_properties(subset=['all'], **{'width': '300px'})\n",
    "# extract rooms\n",
    "dfr['rooms'] = dfr['all'].str.split('var | v | rom | vär | vær | roms | vor | ettroms | V. | r . | vaer | sier | ver | aer | 2 vier . mod . v Spikkestad . Innsk . 15000 300                                     \n",
    "').str[0]\n",
    "# replace Hybelleil as one room\n",
    "dfr.loc[dfr['rooms'].str.contains('Hybelleil'), 'rooms'] = '1'\n",
    "# keep only number of rooms\n",
    "dfr['rooms'] = dfr['rooms'].str.split('(?<!\\d)(\\d{1})(?!\\d)').str[1]\n",
    "#extract kitchen\n",
    "dfr['kitchen'] = 0\n",
    "dfr.loc[dfr['all'].str.contains('grovkjøkken | kjk | kjokken | kj | k \\ | Kjokken )'), 'kitchen'] = 1\n",
    "#extract hall\n",
    "dfr['hall'] = 0\n",
    "dfr.loc[dfr['all'].str.contains('hall'), 'hall'] = 1\n",
    "#extract garage\n",
    "dfr['garage'] = 0\n",
    "dfr.loc[dfr['all'].str.contains('garasje'), 'garage'] = 1\n",
    "#extract bathroom\n",
    "dfr['bathroom'] = 0\n",
    "dfr.loc[dfr['all'].str.contains('bad'), 'bathroom'] = 1\n",
    "#extract balkony\n",
    "dfr['balkony'] = 0\n",
    "dfr.loc[dfr['all'].str.contains('balk'), 'balkony'] = 1"
   ]
  },
  {
   "cell_type": "code",
   "execution_count": null,
   "metadata": {},
   "outputs": [],
   "source": [
    "# create fin dataset\n",
    "dfall = dfr[['date', 'all', 'rent', 'rooms', 'kitchen', 'hall', 'garage', 'bathroom', 'balkony']]\n",
    "# encode norwegian\n",
    "for i in range(0,len(dfall)):\n",
    "    dfall.iloc[i,1] = unidecode(dfall.iloc[i,1])\n",
    "# extract first Uppercase + 11 characters\n",
    "dfall['area1'] = dfall['all'].str.extract(pat = '([A-Z][a-z]..........)')\n",
    "dfall['area1'] = dfall['area1'].str.split(r'[^\\S]').str[0]\n",
    "dfall['area1'] = dfall['area1'].replace(np.nan, '', regex=True)\n",
    "# extract second Uppercase + 11 characters\n",
    "dfall['second'] = dfall['all']\n",
    "for i in range(0,len(dfall)):\n",
    "    dfall.iloc[i, 10] = dfall.iloc[i, 10].replace(dfall.iloc[i, 9],'')\n",
    "dfall['area2'] = dfall['second'].str.extract(pat = '([A-Z][a-z]..........)')\n",
    "dfall['area2'] = dfall['area2'].replace(np.nan, '', regex=True)\n",
    "dfall.loc[dfall['area2'].str.contains('St'), 'area2'] = \"Hansfjellet\"\n",
    "dfall['area2'] = dfall['area2'].str.split(r'[^\\S]').str[0]\n",
    "#extract third Uppercase + 11 characters\n",
    "dfall['third'] = dfall['second']\n",
    "for i in range(0,len(dfall)):\n",
    "    dfall.iloc[i, 12] = dfall.iloc[i, 12].replace(dfall.iloc[i,11],'')\n",
    "dfall['area3'] = dfall['third'].str.extract(pat = '([A-Z][a-z]..........)')\n",
    "dfall['area3'] = dfall['area3'].replace(np.nan, '', regex=True)\n",
    "dfall['area3'] = dfall['area3'].str.split(r'[^\\S]').str[0]\n",
    "#extract fourth Uppercase + 11 characters\n",
    "dfall['fourth'] = dfall['third']\n",
    "for i in range(0,len(dfall)):\n",
    "    dfall.iloc[i, 14] = dfall.iloc[i, 14].replace(dfall.iloc[i,13],'')\n",
    "dfall['area4'] = dfall['fourth'].str.extract(pat = '([A-Z][a-z]..........)')\n",
    "dfall['area4'] = dfall['area4'].replace(np.nan, '', regex=True)\n",
    "dfall['area4'] = dfall['area4'].str.split(r'[^\\S]').str[0]\n",
    "#dfall = dfall.style.set_properties(subset=['second'], **{'width': '300px'})\n",
    "dfall = dfall.drop(['second', 'third', 'fourth', 'all'], axis = 1) \n",
    "#replace all area names that are certainly not areas\n",
    "areas = ['area1', 'area2', 'area3', 'area4']\n",
    "for i in range(0,4):\n",
    "    dfall = dfall.replace({areas[i] : { 'Hybelleil' : '', 'Leie' : '', 'Innsk' : '', 'Bm' : '', 'Juli' : '', 'Obligasjon' : '', 'Innsk./leie' : '', 'Kjokken' : '', 'Lele' : '', 'Bis' : ''}})"
   ]
  }
 ],
 "metadata": {
  "kernelspec": {
   "display_name": "Python 3",
   "language": "python",
   "name": "python3"
  },
  "language_info": {
   "codemirror_mode": {
    "name": "ipython",
    "version": 3
   },
   "file_extension": ".py",
   "mimetype": "text/x-python",
   "name": "python",
   "nbconvert_exporter": "python",
   "pygments_lexer": "ipython3",
   "version": "3.7.6"
  }
 },
 "nbformat": 4,
 "nbformat_minor": 4
}
